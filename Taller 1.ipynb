{
 "cells": [
  {
   "cell_type": "markdown",
   "metadata": {},
   "source": [
    "**<font color='#CDDDF1'>Autores: Santiago Garcia**"
   ]
  },
  {
   "cell_type": "markdown",
   "metadata": {},
   "source": [
    "***Introducción***\n",
    "\n",
    "Entender el comportamiento en series de tiempo, señales de audio y datos de sensores es un tipo de dato particular, pues no solo contiene información sobre un fenómeno, sino que dicho fenómeno tiene una componente temporal, lo que resulta en un tratamiento completamente diferente para estos datos.\n",
    "\n",
    "Comprender cómo se procesan las señales secuenciales tiene aplicaciones, como entender el comportamiento del clima, reconocimiento de voz, detección de anomalías en la productividad de una empresa, en la detección de movimientos útil para deportólogos y fisioterapeutas, entre otras aplicaciones.\n",
    "\n",
    "En este notebook se exploran dos casos muy específicos. El primero corresponde a diferenciar sonidos usuales en una casa, como son: el sonido de una charla por teléfono usando altavoz, el sonido de alguien jugando en un computador, el sonido de alguien trabajando desde casa (Home Office), y el sonido de una cocina.\n",
    "\n",
    "El segundo caso es el uso del acelerómetro para clasificar 5 clases de movimientos: movimientos en una caminata, movimientos en una sesión de descanso, movimientos subiendo y bajando escaleras, movimientos dentro de un ambiente de Home Office, y movimientos de alguien ordenando una pieza.\n",
    "\n",
    "A partir de estos dos casos, se busca determinar qué tipo de método de procesamiento es mejor para poder hacer predicciones más correctas. Para ello, se comparan las redes ***Conv1D***, ***Conv2D***, ***MLP*** y ***RNN***."
   ]
  },
  {
   "cell_type": "markdown",
   "metadata": {},
   "source": [
    "***Marco Teórico***\n",
    "\n",
    "El procesamiento de señales se utiliza para el procesamiento de audio, análisis de series temporales, reconocimiento de actividad humana, etc. Para procesar señales, realizar inferencias, predicciones y clasificaciones se usan redes neuronales como Conv1D, Keras Conv2D, MLP y Redes Neuronales Recurrentes. Esto se debe a que, por lo general, las señales se procesan como espectrogramas, los cuales son imágenes que se pueden analizar para obtener información que, a simple vista, no es posible discernir. Para entender las razones del uso de estas redes neuronales, a continuación, una breve explicación:\n",
    "\n",
    "* Keras Conv1D y Keras Conv2D son Redes Neuronales convolucionales utilizadas principalmente para el procesamiento de datos unidimensionales (Conv1D) y bidimensionales (Conv2D). Estas son útiles para extraer información de una señal, como patrones temporales (Conv1D) o patrones espaciales (Conv2D).\n",
    "\n",
    "* MLP es un tipo de red neuronal artificial con una capa de neuronas de entrada, una o más capas ocultas y una capa de salida. Este tipo de red neuronal se puede utilizar para tareas de clasificación, regresión o detección de anomalías. Las capas de MLP procesan las señales como un vector de características, centrándose principalmente en las diferentes partes de la señal.\n",
    "\n",
    "* Redes Neuronales Recurrentes (RNN) son un tipo de red neuronal usada para modelar datos secuenciales, donde la salida depende de una entrada actual y de la salida anterior. Son muy útiles para el reconocimiento de voz y el análisis de series temporales.\n"
   ]
  },
  {
   "cell_type": "markdown",
   "metadata": {},
   "source": [
    "***Problema a Solucionar***\n",
    "\n",
    "El problema presentado consiste en reconocer y diferenciar 5 actividades realizadas normalmente por una persona que trabaja desde casa (Home Office). Estas actividades pueden incluir caminar, subir escaleras, trabajar en la oficina, ordenar su lugar de trabajo o la casa en general. También implica diferenciar y clasificar los sonidos que se presentan de manera habitual a lo largo del día en una casa, en un barrio tranquilo como lo es Multicentro.\n",
    "\n",
    "***Planteamiento de la solucion***\n",
    "\n",
    "Para dar solución a esto, se procede a tomar muestras de las actividades y sonidos mencionados anteriormente usando los sensores y micrófonos de un celular, así como la plataforma Edge Impulse para almacenar los datos. Una vez hecho esto, se procede a la transformación y análisis de la información utilizando métodos de procesamiento de datos secuenciales como: ***Conv1D***, ***Conv2D***, ***MLP*** y ***RNN**. Cada modelo será evaluado para determinar cuál tiene un mejor desempeño para futuras aplicaciones de este tipo."
   ]
  },
  {
   "cell_type": "markdown",
   "metadata": {},
   "source": [
    "## ***Librerias***"
   ]
  },
  {
   "cell_type": "code",
   "execution_count": 1,
   "metadata": {},
   "outputs": [],
   "source": [
    "import tensorflow as tf\n",
    "from tensorflow import keras\n",
    "from keras import layers \n",
    "import pandas as pd\n",
    "import numpy as np\n",
    "import torch\n",
    "from sklearn.preprocessing import StandardScaler\n",
    "from sklearn.preprocessing import MinMaxScaler\n",
    "from sklearn.model_selection import train_test_split\n",
    "import matplotlib.pyplot as plt\n",
    "from sklearn.neural_network import MLPClassifier\n",
    "import pathlib as pl\n",
    "import matplotlib as mpl\n",
    "from IPython import display\n",
    "from sklearn.metrics import classification_report, confusion_matrix, accuracy_score\n",
    "import seaborn as sns\n",
    "import os"
   ]
  },
  {
   "cell_type": "markdown",
   "metadata": {},
   "source": [
    "# **Funciones**"
   ]
  },
  {
   "cell_type": "code",
   "execution_count": 2,
   "metadata": {},
   "outputs": [],
   "source": [
    "def load_wav_16k_mono(filename):\n",
    "    file_contents = tf.io.read_file(filename)\n",
    "    wav,sample_rate = tf.audio.decode_wav(file_contents, desired_channels=1)\n",
    "    wav = tf.squeeze(wav,axis=1)\n",
    "    return wav\n",
    "\n",
    "def preprocess(wave):\n",
    "    wav = wave[0:1000000]\n",
    "    spectrogram = tf.signal.stft(wav,frame_length=255,frame_step=128)\n",
    "    spectrogram = tf.abs(spectrogram)\n",
    "    return spectrogram\n",
    "\n",
    "def Obtener_dataset(data_set):    \n",
    "    Num_files = len(data_set)\n",
    "    Datos = np.zeros((Num_files*611,3)) \n",
    "    i = 0\n",
    "    for file in data_set:\n",
    "        Data = pd.read_json(file)\n",
    "        Valores = Data.iloc[:,:].values\n",
    "        Datos_aux= Valores[7,2][0:-1]\n",
    "        Datos_aux2 = np.array(Datos_aux)\n",
    "        Datos[i*611:(i+1)*611] = Datos_aux2\n",
    "        i+=1\n",
    "    return Datos"
   ]
  },
  {
   "cell_type": "markdown",
   "metadata": {},
   "source": [
    "# **Audios**"
   ]
  },
  {
   "cell_type": "markdown",
   "metadata": {},
   "source": [
    "## **Etapa 1: Carga de Datos**"
   ]
  },
  {
   "cell_type": "markdown",
   "metadata": {},
   "source": [
    "### Charlas"
   ]
  },
  {
   "cell_type": "code",
   "execution_count": 3,
   "metadata": {},
   "outputs": [
    {
     "name": "stdout",
     "output_type": "stream",
     "text": [
      "(1249, 129)\n",
      "(1249, 129)\n",
      "(1249, 129)\n",
      "(1249, 129)\n",
      "(1249, 129)\n",
      "(1249, 129)\n"
     ]
    }
   ],
   "source": [
    "# Train\n",
    "ruta = \"./Muestras_Audio_Train/Charla1.wav\"\n",
    "wave_c_1 = load_wav_16k_mono(ruta)\n",
    "espc_c_1 = preprocess(wave_c_1)\n",
    "\n",
    "ruta = \"./Muestras_Audio_Train/Charla2.wav\"\n",
    "wave_c_2 = load_wav_16k_mono(ruta)\n",
    "espc_c_2 = preprocess(wave_c_2)\n",
    "\n",
    "ruta = \"./Muestras_Audio_Train/Charla3.wav\"\n",
    "wave_c_3 = load_wav_16k_mono(ruta)\n",
    "espc_c_3 = preprocess(wave_c_3)\n",
    "\n",
    "ruta = \"./Muestras_Audio_Train/Charla4.wav\"\n",
    "wave_c_4 = load_wav_16k_mono(ruta)\n",
    "espc_c_4 = preprocess(wave_c_4)\n",
    "\n",
    "ruta = \"./Muestras_Audio_Train/Charla5.wav\"\n",
    "wave_c_5 = load_wav_16k_mono(ruta)\n",
    "espc_c_5 = preprocess(wave_c_5)\n",
    "\n",
    "ruta = \"./Muestras_Audio_Train/Charla6.wav\"\n",
    "wave_c_6 = load_wav_16k_mono(ruta)\n",
    "espc_c_6 = preprocess(wave_c_6)\n",
    "\n",
    "## Test\n",
    "ruta = \"./Muestras_Audio_test/Charla1.wav\"\n",
    "wave_c_1_t = load_wav_16k_mono(ruta)\n",
    "espc_c_1_t = preprocess(wave_c_1_t)\n",
    "\n",
    "ruta = \"./Muestras_Audio_test/Charla2.wav\"\n",
    "wave_c_2_t = load_wav_16k_mono(ruta)\n",
    "espc_c_2_t = preprocess(wave_c_2_t)\n",
    "\n",
    "ruta = \"./Muestras_Audio_test/Charla3.wav\"\n",
    "wave_c_3_t = load_wav_16k_mono(ruta)\n",
    "espc_c_3_t = preprocess(wave_c_3_t)\n",
    "\n",
    "print(espc_c_1.shape)\n",
    "print(espc_c_2.shape)\n",
    "print(espc_c_3.shape)\n",
    "print(espc_c_4.shape)\n",
    "print(espc_c_5.shape)\n",
    "print(espc_c_6.shape)"
   ]
  },
  {
   "cell_type": "markdown",
   "metadata": {},
   "source": [
    "### Game"
   ]
  },
  {
   "cell_type": "code",
   "execution_count": 4,
   "metadata": {},
   "outputs": [
    {
     "name": "stdout",
     "output_type": "stream",
     "text": [
      "(1249, 129)\n",
      "(1249, 129)\n",
      "(1249, 129)\n",
      "(1249, 129)\n",
      "(1249, 129)\n",
      "(1249, 129)\n",
      "(1249, 129)\n"
     ]
    }
   ],
   "source": [
    "# Train\n",
    "ruta = \"./Muestras_Audio_Train/Game1.wav\"\n",
    "wave_g_1 = load_wav_16k_mono(ruta)\n",
    "espc_g_1 = preprocess(wave_g_1)\n",
    "\n",
    "ruta = \"./Muestras_Audio_Train/Game2.wav\"\n",
    "wave_g_2 = load_wav_16k_mono(ruta)\n",
    "espc_g_2 = preprocess(wave_g_2)\n",
    "\n",
    "ruta = \"./Muestras_Audio_Train/Game3.wav\"\n",
    "wave_g_3 = load_wav_16k_mono(ruta)\n",
    "espc_g_3 = preprocess(wave_g_3)\n",
    "\n",
    "ruta = \"./Muestras_Audio_Train/Game4.wav\"\n",
    "wave_g_4 = load_wav_16k_mono(ruta)\n",
    "espc_g_4 = preprocess(wave_g_4)\n",
    "\n",
    "ruta = \"./Muestras_Audio_Train/Game5.wav\"\n",
    "wave_g_5 = load_wav_16k_mono(ruta)\n",
    "espc_g_5 = preprocess(wave_g_5)\n",
    "\n",
    "ruta = \"./Muestras_Audio_Train/Game6.wav\"\n",
    "wave_g_6 = load_wav_16k_mono(ruta)\n",
    "espc_g_6 = preprocess(wave_g_6)\n",
    "\n",
    "# Test\n",
    "ruta = \"./Muestras_Audio_test/Game1.wav\"\n",
    "wave_g_1_t = load_wav_16k_mono(ruta)\n",
    "espc_g_1_t = preprocess(wave_g_1_t)\n",
    "\n",
    "ruta = \"./Muestras_Audio_test/Game2.wav\"\n",
    "wave_g_2_t = load_wav_16k_mono(ruta)\n",
    "espc_g_2_t = preprocess(wave_g_2_t)\n",
    "\n",
    "ruta = \"./Muestras_Audio_test/Game3.wav\"\n",
    "wave_g_3_t = load_wav_16k_mono(ruta)\n",
    "espc_g_3_t = preprocess(wave_g_3_t)\n",
    "\n",
    "print(espc_g_1.shape)\n",
    "print(espc_g_2.shape)\n",
    "print(espc_g_3.shape)\n",
    "print(espc_g_4.shape)\n",
    "print(espc_g_5.shape)\n",
    "print(espc_g_6.shape)\n",
    "print(espc_g_3_t.shape)"
   ]
  },
  {
   "cell_type": "markdown",
   "metadata": {},
   "source": [
    "### Home Office"
   ]
  },
  {
   "cell_type": "code",
   "execution_count": 5,
   "metadata": {},
   "outputs": [
    {
     "name": "stdout",
     "output_type": "stream",
     "text": [
      "(1249, 129)\n",
      "(1249, 129)\n",
      "(1249, 129)\n",
      "(1249, 129)\n",
      "(1249, 129)\n",
      "(1249, 129)\n"
     ]
    }
   ],
   "source": [
    "# Train\n",
    "ruta = \"./Muestras_Audio_Train/home_office1.wav\"\n",
    "wave_ho_1 = load_wav_16k_mono(ruta)\n",
    "espc_ho_1 = preprocess(wave_ho_1)\n",
    "print(espc_ho_1.shape)\n",
    "\n",
    "ruta = \"./Muestras_Audio_Train/home_office2.wav\"\n",
    "wave_ho_2 = load_wav_16k_mono(ruta)\n",
    "espc_ho_2 = preprocess(wave_ho_2)\n",
    "print(espc_ho_2.shape)\n",
    "\n",
    "ruta = \"./Muestras_Audio_Train/home_office3.wav\"\n",
    "wave_ho_3 = load_wav_16k_mono(ruta)\n",
    "espc_ho_3 = preprocess(wave_ho_3)\n",
    "print(espc_ho_3.shape)\n",
    "\n",
    "ruta = \"./Muestras_Audio_Train/home_office4.wav\"\n",
    "wave_ho_4 = load_wav_16k_mono(ruta)\n",
    "espc_ho_4 = preprocess(wave_ho_4)\n",
    "print(espc_ho_4.shape)\n",
    "\n",
    "ruta = \"./Muestras_Audio_Train/home_office5.wav\"\n",
    "wave_ho_5 = load_wav_16k_mono(ruta)\n",
    "espc_ho_5 = preprocess(wave_ho_5)\n",
    "print(espc_ho_5.shape)\n",
    "\n",
    "ruta = \"./Muestras_Audio_Train/home_office6.wav\"\n",
    "wave_ho_6 = load_wav_16k_mono(ruta)\n",
    "espc_ho_6 = preprocess(wave_ho_6)\n",
    "print(espc_ho_6.shape)\n",
    "\n",
    "# Test\n",
    "ruta = \"./Muestras_Audio_test/home_office1.wav\"\n",
    "wave_ho_1_t = load_wav_16k_mono(ruta)\n",
    "espc_ho_1_t = preprocess(wave_ho_1_t)\n",
    "\n",
    "ruta = \"./Muestras_Audio_test/home_office2.wav\"\n",
    "wave_ho_2_t = load_wav_16k_mono(ruta)\n",
    "espc_ho_2_t = preprocess(wave_ho_2_t)\n",
    "\n",
    "ruta = \"./Muestras_Audio_test/home_office3.wav\"\n",
    "wave_ho_3_t = load_wav_16k_mono(ruta)\n",
    "espc_ho_2_t = preprocess(wave_ho_3_t)"
   ]
  },
  {
   "cell_type": "markdown",
   "metadata": {},
   "source": [
    "### Cocina"
   ]
  },
  {
   "cell_type": "code",
   "execution_count": 6,
   "metadata": {},
   "outputs": [
    {
     "name": "stdout",
     "output_type": "stream",
     "text": [
      "(1249, 129)\n",
      "(1249, 129)\n",
      "(1249, 129)\n",
      "(1249, 129)\n",
      "(1249, 129)\n",
      "(1249, 129)\n"
     ]
    }
   ],
   "source": [
    "# Train\n",
    "ruta = \"./Muestras_Audio_Train/Cocina1.wav\"\n",
    "wave_co_1 = load_wav_16k_mono(ruta)\n",
    "espc_co_1 = preprocess(wave_co_1)\n",
    "\n",
    "ruta = \"./Muestras_Audio_Train/Cocina2.wav\"\n",
    "wave_co_2 = load_wav_16k_mono(ruta)\n",
    "espc_co_2 = preprocess(wave_co_2)\n",
    "\n",
    "ruta = \"./Muestras_Audio_Train/Cocina3.wav\"\n",
    "wave_co_3 = load_wav_16k_mono(ruta)\n",
    "espc_co_3 = preprocess(wave_co_3)\n",
    "\n",
    "ruta = \"./Muestras_Audio_Train/Cocina4.wav\"\n",
    "wave_co_4 = load_wav_16k_mono(ruta)\n",
    "espc_co_4 = preprocess(wave_co_4)\n",
    "\n",
    "ruta = \"./Muestras_Audio_Train/Cocina5.wav\"\n",
    "wave_co_5 = load_wav_16k_mono(ruta)\n",
    "espc_co_5 = preprocess(wave_co_5)\n",
    "\n",
    "ruta = \"./Muestras_Audio_Train/Cocina6.wav\"\n",
    "wave_co_6 = load_wav_16k_mono(ruta)\n",
    "espc_co_6 = preprocess(wave_co_6)\n",
    "\n",
    "# Test\n",
    "ruta = \"./Muestras_Audio_Train/Cocina1.wav\"\n",
    "wave_co_1_t = load_wav_16k_mono(ruta)\n",
    "espc_co_1_t = preprocess(wave_co_1_t)\n",
    "\n",
    "ruta = \"./Muestras_Audio_test/Cocina2.wav\"\n",
    "wave_co_2_t = load_wav_16k_mono(ruta)\n",
    "espc_co_2_t = preprocess(wave_co_2_t)\n",
    "\n",
    "ruta = \"./Muestras_Audio_test/Cocina3.wav\"\n",
    "wave_co_3_t = load_wav_16k_mono(ruta)\n",
    "espc_co_3_t = preprocess(wave_co_3_t)\n",
    "\n",
    "print(espc_co_1.shape)\n",
    "print(espc_co_2.shape)\n",
    "print(espc_co_3.shape)\n",
    "print(espc_co_4.shape)\n",
    "print(espc_co_5.shape)\n",
    "print(espc_co_3_t.shape)"
   ]
  },
  {
   "cell_type": "markdown",
   "metadata": {},
   "source": [
    "### Sala"
   ]
  },
  {
   "cell_type": "code",
   "execution_count": 7,
   "metadata": {},
   "outputs": [
    {
     "name": "stdout",
     "output_type": "stream",
     "text": [
      "(1249, 129)\n",
      "(1249, 129)\n",
      "(1249, 129)\n",
      "(1249, 129)\n",
      "(1249, 129)\n",
      "(1249, 129)\n"
     ]
    }
   ],
   "source": [
    "# Train\n",
    "ruta = \"./Muestras_Audio_Train/sala1.wav\"\n",
    "wave_s_1 = load_wav_16k_mono(ruta)\n",
    "espc_s_1 = preprocess(wave_s_1)\n",
    "\n",
    "ruta = \"./Muestras_Audio_Train/sala2.wav\"\n",
    "wave_s_2 = load_wav_16k_mono(ruta)\n",
    "espc_s_2 = preprocess(wave_s_2)\n",
    "\n",
    "ruta = \"./Muestras_Audio_Train/sala3.wav\"\n",
    "wave_s_3 = load_wav_16k_mono(ruta)\n",
    "espc_s_3 = preprocess(wave_s_3)\n",
    "\n",
    "ruta = \"./Muestras_Audio_Train/sala4.wav\"\n",
    "wave_s_4 = load_wav_16k_mono(ruta)\n",
    "espc_s_4 = preprocess(wave_s_4)\n",
    "\n",
    "ruta = \"./Muestras_Audio_Train/sala5.wav\"\n",
    "wave_s_5 = load_wav_16k_mono(ruta)\n",
    "espc_s_5 = preprocess(wave_s_5)\n",
    "\n",
    "ruta = \"./Muestras_Audio_Train/sala6.wav\"\n",
    "wave_s_6 = load_wav_16k_mono(ruta)\n",
    "espc_s_6 = preprocess(wave_s_6)\n",
    "\n",
    "\n",
    "# Test\n",
    "ruta = \"./Muestras_Audio_test/sala1.wav\"\n",
    "wave_s_1_t = load_wav_16k_mono(ruta)\n",
    "espc_s_1_t = preprocess(wave_s_1_t)\n",
    "\n",
    "ruta = \"./Muestras_Audio_test/sala2.wav\"\n",
    "wave_s_2_t = load_wav_16k_mono(ruta)\n",
    "espc_s_2_t = preprocess(wave_s_2_t)\n",
    "\n",
    "ruta = \"./Muestras_Audio_test/sala3.wav\"\n",
    "wave_s_3_t = load_wav_16k_mono(ruta)\n",
    "espc_s_3_t = preprocess(wave_s_3_t)\n",
    "\n",
    "print(espc_s_1.shape)\n",
    "print(espc_s_2.shape)\n",
    "print(espc_s_3.shape)\n",
    "print(espc_s_4.shape)\n",
    "print(espc_s_5.shape)\n",
    "print(espc_s_3_t.shape)"
   ]
  },
  {
   "cell_type": "code",
   "execution_count": null,
   "metadata": {},
   "outputs": [],
   "source": []
  },
  {
   "cell_type": "markdown",
   "metadata": {},
   "source": [
    "## **Etapa 2: Crear X_train y Y_train**"
   ]
  },
  {
   "cell_type": "markdown",
   "metadata": {},
   "source": [
    "### XTrain"
   ]
  },
  {
   "cell_type": "code",
   "execution_count": 8,
   "metadata": {},
   "outputs": [
    {
     "name": "stdout",
     "output_type": "stream",
     "text": [
      "(30, 1249, 129)\n",
      "(30, 1249, 129, 1)\n",
      "(30, 1249, 129)\n"
     ]
    }
   ],
   "source": [
    "Data = np.zeros((30,1249,129))\n",
    "Data[0,:,:] = espc_c_1\n",
    "Data[1,:,:] = espc_c_2\n",
    "Data[2,:,:] = espc_c_3\n",
    "Data[3,:,:] = espc_c_4\n",
    "Data[4,:,:] = espc_c_5\n",
    "Data[5,:,:] = espc_c_6\n",
    "\n",
    "Data[6,:,:] = espc_g_1\n",
    "Data[7,:,:] = espc_g_2\n",
    "Data[8,:,:] = espc_g_3\n",
    "Data[9,:,:] = espc_g_4\n",
    "Data[10,:,:] = espc_g_5\n",
    "Data[11,:,:] = espc_g_6\n",
    "\n",
    "Data[12,:,:] = espc_ho_1\n",
    "Data[13,:,:] = espc_ho_2\n",
    "Data[14,:,:] = espc_ho_3\n",
    "Data[15,:,:] = espc_ho_4\n",
    "Data[16,:,:] = espc_ho_5\n",
    "Data[17,:,:] = espc_ho_6\n",
    "\n",
    "Data[18,:,:] = espc_co_1\n",
    "Data[19,:,:] = espc_co_2\n",
    "Data[20,:,:] = espc_co_3\n",
    "Data[21,:,:] = espc_co_4\n",
    "Data[22,:,:] = espc_co_5\n",
    "Data[23,:,:] = espc_co_6\n",
    "\n",
    "Data[24,:,:] = espc_s_1\n",
    "Data[25,:,:] = espc_s_2\n",
    "Data[26,:,:] = espc_s_3\n",
    "Data[27,:,:] = espc_s_4\n",
    "Data[28,:,:] = espc_s_5\n",
    "Data[29,:,:] = espc_s_6\n",
    "print(Data.shape)\n",
    "Xtrain = Data\n",
    "X_train = tf.expand_dims(Data,axis=3)\n",
    "print(X_train.shape)\n",
    "print(Xtrain.shape)"
   ]
  },
  {
   "cell_type": "markdown",
   "metadata": {},
   "source": [
    "###  YTrain"
   ]
  },
  {
   "cell_type": "code",
   "execution_count": 9,
   "metadata": {},
   "outputs": [],
   "source": [
    "YTrain = np.zeros((30,1))\n",
    "\n",
    "for i in range(6):\n",
    "    YTrain[i] = 0\n",
    "    \n",
    "for i in range(6,12):\n",
    "    YTrain[i] = 1\n",
    "\n",
    "for i in range(12,18):\n",
    "    YTrain[i] = 2\n",
    "\n",
    "for i in range(18,24):\n",
    "    YTrain[i] = 3\n",
    "    \n",
    "for i in range(24,30):\n",
    "    YTrain[i] = 4"
   ]
  },
  {
   "cell_type": "code",
   "execution_count": 10,
   "metadata": {},
   "outputs": [
    {
     "data": {
      "text/plain": [
       "(30, 5)"
      ]
     },
     "execution_count": 10,
     "metadata": {},
     "output_type": "execute_result"
    }
   ],
   "source": [
    "YTrain = keras.utils.to_categorical(YTrain)\n",
    "YTrain.shape"
   ]
  },
  {
   "cell_type": "markdown",
   "metadata": {},
   "source": [
    "###  XTest"
   ]
  },
  {
   "cell_type": "code",
   "execution_count": 11,
   "metadata": {},
   "outputs": [
    {
     "name": "stdout",
     "output_type": "stream",
     "text": [
      "(15, 1249, 129)\n",
      "(15, 1249, 129, 1)\n",
      "(15, 1249, 129)\n"
     ]
    }
   ],
   "source": [
    "Data_test = np.zeros((15,1249,129))\n",
    "Data_test[0,:,:] = espc_c_1_t\n",
    "Data_test[1,:,:] = espc_c_2_t\n",
    "Data_test[2,:,:] = espc_c_3_t\n",
    "\n",
    "Data_test[3,:,:] = espc_g_1_t\n",
    "Data_test[4,:,:] = espc_g_2_t\n",
    "Data_test[5,:,:] = espc_g_3_t\n",
    "\n",
    "Data_test[6,:,:] = espc_ho_1_t\n",
    "Data_test[7,:,:] = espc_ho_2_t\n",
    "Data_test[8,:,:] = espc_ho_2_t\n",
    "\n",
    "Data_test[9,:,:] = espc_co_1_t\n",
    "Data_test[10,:,:] = espc_co_2_t\n",
    "Data_test[11,:,:] = espc_co_3_t\n",
    "\n",
    "Data_test[12,:,:] = espc_s_1_t\n",
    "Data_test[13,:,:] = espc_s_2_t\n",
    "Data_test[14,:,:] = espc_s_3_t\n",
    "print(Data_test.shape)\n",
    "Xtest = Data_test\n",
    "X_test = tf.expand_dims(Data_test,axis=3)\n",
    "print(X_test.shape)\n",
    "print(Xtest.shape)\n"
   ]
  },
  {
   "cell_type": "markdown",
   "metadata": {},
   "source": [
    "###  YTest"
   ]
  },
  {
   "cell_type": "code",
   "execution_count": 12,
   "metadata": {},
   "outputs": [],
   "source": [
    "YTest = np.zeros((15,1))\n",
    "\n",
    "for i in range(3):\n",
    "    YTest[i] = 0\n",
    "    \n",
    "for i in range(3,6):\n",
    "    YTest[i] = 1\n",
    "\n",
    "for i in range(6,9):\n",
    "    YTest[i] = 2\n",
    "\n",
    "for i in range(9,12):\n",
    "    YTest[i] = 3\n",
    "    \n",
    "for i in range(12,15):\n",
    "    YTest[i] = 4"
   ]
  },
  {
   "cell_type": "code",
   "execution_count": 13,
   "metadata": {},
   "outputs": [
    {
     "data": {
      "text/plain": [
       "(15, 5)"
      ]
     },
     "execution_count": 13,
     "metadata": {},
     "output_type": "execute_result"
    }
   ],
   "source": [
    "YTest = keras.utils.to_categorical(YTest)\n",
    "YTest.shape"
   ]
  },
  {
   "cell_type": "markdown",
   "metadata": {},
   "source": [
    "## **Etapa 3: Modelo**"
   ]
  },
  {
   "cell_type": "markdown",
   "metadata": {},
   "source": [
    "### Crear Modelo Conv1D"
   ]
  },
  {
   "cell_type": "code",
   "execution_count": 14,
   "metadata": {},
   "outputs": [
    {
     "name": "stdout",
     "output_type": "stream",
     "text": [
      "Epoch 1/50\n",
      "1/1 [==============================] - 1s 584ms/step - loss: 1.6070 - accuracy: 0.1667\n",
      "Epoch 2/50\n",
      "1/1 [==============================] - 0s 25ms/step - loss: 1.4368 - accuracy: 0.2000\n",
      "Epoch 3/50\n",
      "1/1 [==============================] - 0s 25ms/step - loss: 1.3363 - accuracy: 0.2000\n",
      "Epoch 4/50\n",
      "1/1 [==============================] - 0s 25ms/step - loss: 1.2893 - accuracy: 0.2000\n",
      "Epoch 5/50\n",
      "1/1 [==============================] - 0s 25ms/step - loss: 1.2501 - accuracy: 0.2000\n",
      "Epoch 6/50\n",
      "1/1 [==============================] - 0s 25ms/step - loss: 1.2152 - accuracy: 0.2667\n",
      "Epoch 7/50\n",
      "1/1 [==============================] - 0s 34ms/step - loss: 1.1830 - accuracy: 0.3000\n",
      "Epoch 8/50\n",
      "1/1 [==============================] - 0s 27ms/step - loss: 1.1482 - accuracy: 0.3333\n",
      "Epoch 9/50\n",
      "1/1 [==============================] - 0s 25ms/step - loss: 1.1069 - accuracy: 0.5000\n",
      "Epoch 10/50\n",
      "1/1 [==============================] - 0s 26ms/step - loss: 1.0580 - accuracy: 0.5667\n",
      "Epoch 11/50\n",
      "1/1 [==============================] - 0s 24ms/step - loss: 1.0084 - accuracy: 0.6000\n",
      "Epoch 12/50\n",
      "1/1 [==============================] - 0s 25ms/step - loss: 0.9673 - accuracy: 0.6000\n",
      "Epoch 13/50\n",
      "1/1 [==============================] - 0s 36ms/step - loss: 0.9359 - accuracy: 0.6000\n",
      "Epoch 14/50\n",
      "1/1 [==============================] - 0s 27ms/step - loss: 0.8985 - accuracy: 0.6333\n",
      "Epoch 15/50\n",
      "1/1 [==============================] - 0s 26ms/step - loss: 0.8490 - accuracy: 0.6333\n",
      "Epoch 16/50\n",
      "1/1 [==============================] - 0s 25ms/step - loss: 0.8070 - accuracy: 0.6667\n",
      "Epoch 17/50\n",
      "1/1 [==============================] - 0s 25ms/step - loss: 0.7695 - accuracy: 0.6667\n",
      "Epoch 18/50\n",
      "1/1 [==============================] - 0s 24ms/step - loss: 0.7309 - accuracy: 0.6667\n",
      "Epoch 19/50\n",
      "1/1 [==============================] - 0s 34ms/step - loss: 0.6905 - accuracy: 0.7000\n",
      "Epoch 20/50\n",
      "1/1 [==============================] - 0s 28ms/step - loss: 0.6493 - accuracy: 0.7333\n",
      "Epoch 21/50\n",
      "1/1 [==============================] - 0s 27ms/step - loss: 0.6080 - accuracy: 0.7667\n",
      "Epoch 22/50\n",
      "1/1 [==============================] - 0s 26ms/step - loss: 0.5680 - accuracy: 0.7667\n",
      "Epoch 23/50\n",
      "1/1 [==============================] - 0s 24ms/step - loss: 0.5295 - accuracy: 0.8667\n",
      "Epoch 24/50\n",
      "1/1 [==============================] - 0s 26ms/step - loss: 0.4917 - accuracy: 0.8667\n",
      "Epoch 25/50\n",
      "1/1 [==============================] - 0s 25ms/step - loss: 0.4538 - accuracy: 0.8667\n",
      "Epoch 26/50\n",
      "1/1 [==============================] - 0s 35ms/step - loss: 0.4152 - accuracy: 0.9333\n",
      "Epoch 27/50\n",
      "1/1 [==============================] - 0s 26ms/step - loss: 0.3759 - accuracy: 0.9333\n",
      "Epoch 28/50\n",
      "1/1 [==============================] - 0s 25ms/step - loss: 0.3352 - accuracy: 0.9667\n",
      "Epoch 29/50\n",
      "1/1 [==============================] - 0s 25ms/step - loss: 0.2932 - accuracy: 0.9667\n",
      "Epoch 30/50\n",
      "1/1 [==============================] - 0s 27ms/step - loss: 0.2508 - accuracy: 0.9667\n",
      "Epoch 31/50\n",
      "1/1 [==============================] - 0s 26ms/step - loss: 0.2100 - accuracy: 1.0000\n",
      "Epoch 32/50\n",
      "1/1 [==============================] - 0s 31ms/step - loss: 0.1733 - accuracy: 1.0000\n",
      "Epoch 33/50\n",
      "1/1 [==============================] - 0s 25ms/step - loss: 0.1422 - accuracy: 1.0000\n",
      "Epoch 34/50\n",
      "1/1 [==============================] - 0s 25ms/step - loss: 0.1175 - accuracy: 0.9667\n",
      "Epoch 35/50\n",
      "1/1 [==============================] - 0s 25ms/step - loss: 0.0996 - accuracy: 0.9667\n",
      "Epoch 36/50\n",
      "1/1 [==============================] - 0s 26ms/step - loss: 0.0884 - accuracy: 0.9333\n",
      "Epoch 37/50\n",
      "1/1 [==============================] - 0s 25ms/step - loss: 0.0825 - accuracy: 0.9333\n",
      "Epoch 38/50\n",
      "1/1 [==============================] - 0s 25ms/step - loss: 0.0792 - accuracy: 0.9333\n",
      "Epoch 39/50\n",
      "1/1 [==============================] - 0s 26ms/step - loss: 0.0750 - accuracy: 0.9333\n",
      "Epoch 40/50\n",
      "1/1 [==============================] - 0s 38ms/step - loss: 0.0645 - accuracy: 0.9333\n",
      "Epoch 41/50\n",
      "1/1 [==============================] - 0s 30ms/step - loss: 0.0498 - accuracy: 1.0000\n",
      "Epoch 42/50\n",
      "1/1 [==============================] - 0s 29ms/step - loss: 0.0376 - accuracy: 1.0000\n",
      "Epoch 43/50\n",
      "1/1 [==============================] - 0s 27ms/step - loss: 0.0293 - accuracy: 1.0000\n",
      "Epoch 44/50\n",
      "1/1 [==============================] - 0s 27ms/step - loss: 0.0244 - accuracy: 1.0000\n",
      "Epoch 45/50\n",
      "1/1 [==============================] - 0s 25ms/step - loss: 0.0209 - accuracy: 1.0000\n",
      "Epoch 46/50\n",
      "1/1 [==============================] - 0s 26ms/step - loss: 0.0168 - accuracy: 1.0000\n",
      "Epoch 47/50\n",
      "1/1 [==============================] - 0s 26ms/step - loss: 0.0122 - accuracy: 1.0000\n",
      "Epoch 48/50\n",
      "1/1 [==============================] - 0s 27ms/step - loss: 0.0082 - accuracy: 1.0000\n",
      "Epoch 49/50\n",
      "1/1 [==============================] - 0s 24ms/step - loss: 0.0054 - accuracy: 1.0000\n",
      "Epoch 50/50\n",
      "1/1 [==============================] - 0s 35ms/step - loss: 0.0036 - accuracy: 1.0000\n"
     ]
    }
   ],
   "source": [
    "modelo1 = keras.models.Sequential()\n",
    "modelo1.add(keras.layers.Conv1D(32,3,activation='relu',padding='same',input_shape=(1249,129)))\n",
    "modelo1.add(keras.layers.Conv1D(16,3,activation='relu',padding='same'))\n",
    "modelo1.add(keras.layers.Conv1D(8,3,activation='relu',padding='same'))\n",
    "modelo1.add(keras.layers.Conv1D(16,3,activation='relu',padding='same'))\n",
    "modelo1.add(keras.layers.Conv1D(8,3,activation='relu',padding='same'))\n",
    "modelo1.add(keras.layers.Flatten())\n",
    "modelo1.add(keras.layers.Dense(5,activation='softmax'))\n",
    "\n",
    "modelo1.compile(loss='categorical_crossentropy',optimizer='adam',metrics=['accuracy'])\n",
    "histori = modelo1.fit(Xtrain,YTrain,epochs=50,batch_size=None)"
   ]
  },
  {
   "cell_type": "code",
   "execution_count": 15,
   "metadata": {},
   "outputs": [
    {
     "data": {
      "image/png": "[encoded data removed]",
      "text/plain": [
       "<Figure size 640x480 with 1 Axes>"
      ]
     },
     "metadata": {},
     "output_type": "display_data"
    }
   ],
   "source": [
    "perdida_train = histori.history['loss']\n",
    "epocas = range(1,len(perdida_train)+1)\n",
    "plt.plot(epocas,perdida_train,'b',label='Perdida Entrenamiento')\n",
    "plt.title('Perdida Entrenamiento')\n",
    "plt.show()"
   ]
  },
  {
   "cell_type": "code",
   "execution_count": 16,
   "metadata": {},
   "outputs": [
    {
     "name": "stdout",
     "output_type": "stream",
     "text": [
      "1/1 [==============================] - 0s 125ms/step - loss: 20.4446 - accuracy: 0.2667\n"
     ]
    },
    {
     "data": {
      "text/plain": [
       "[20.444631576538086, 0.2666666805744171]"
      ]
     },
     "execution_count": 16,
     "metadata": {},
     "output_type": "execute_result"
    }
   ],
   "source": [
    "modelo1.evaluate(X_test,YTest)"
   ]
  },
  {
   "cell_type": "code",
   "execution_count": 17,
   "metadata": {},
   "outputs": [
    {
     "name": "stdout",
     "output_type": "stream",
     "text": [
      "1/1 [==============================] - 0s 81ms/step\n"
     ]
    },
    {
     "data": {
      "image/png": "[encoded data removed]",
      "text/plain": [
       "<Figure size 640x480 with 2 Axes>"
      ]
     },
     "metadata": {},
     "output_type": "display_data"
    }
   ],
   "source": [
    "ypredic=modelo1.predict(X_test)\n",
    "\n",
    "y_test_class = np.argmax(YTest,axis=1) \n",
    "y_pred_class = np.argmax(ypredic,axis=1) \n",
    "\n",
    "#Accuracy of the predicted values\n",
    "cm = confusion_matrix(y_test_class, y_pred_class)\n",
    "# visualize the confusion matrix in a heat map\n",
    "df_cm = pd.DataFrame(cm)\n",
    "heatmap = sns.heatmap(df_cm, annot=True, fmt=\"d\")"
   ]
  },
  {
   "cell_type": "markdown",
   "metadata": {},
   "source": [
    "### Crear Modelo Conv2D"
   ]
  },
  {
   "cell_type": "code",
   "execution_count": 18,
   "metadata": {},
   "outputs": [
    {
     "name": "stdout",
     "output_type": "stream",
     "text": [
      "Epoch 1/20\n",
      "1/1 [==============================] - 3s 3s/step - loss: 1.6016 - accuracy: 0.1667\n",
      "Epoch 2/20\n",
      "1/1 [==============================] - 2s 2s/step - loss: 1.3455 - accuracy: 0.2000\n",
      "Epoch 3/20\n",
      "1/1 [==============================] - 2s 2s/step - loss: 1.2097 - accuracy: 0.4000\n",
      "Epoch 4/20\n",
      "1/1 [==============================] - 2s 2s/step - loss: 1.0928 - accuracy: 0.3667\n",
      "Epoch 5/20\n",
      "1/1 [==============================] - 2s 2s/step - loss: 1.0186 - accuracy: 0.4667\n",
      "Epoch 6/20\n",
      "1/1 [==============================] - 2s 2s/step - loss: 0.9106 - accuracy: 0.5333\n",
      "Epoch 7/20\n",
      "1/1 [==============================] - 2s 2s/step - loss: 0.7866 - accuracy: 0.6000\n",
      "Epoch 8/20\n",
      "1/1 [==============================] - 2s 2s/step - loss: 0.6354 - accuracy: 0.8000\n",
      "Epoch 9/20\n",
      "1/1 [==============================] - 2s 2s/step - loss: 0.4695 - accuracy: 1.0000\n",
      "Epoch 10/20\n",
      "1/1 [==============================] - 2s 2s/step - loss: 0.2862 - accuracy: 0.9667\n",
      "Epoch 11/20\n",
      "1/1 [==============================] - 2s 2s/step - loss: 0.4691 - accuracy: 0.9000\n",
      "Epoch 12/20\n",
      "1/1 [==============================] - 2s 2s/step - loss: 0.1952 - accuracy: 0.9333\n",
      "Epoch 13/20\n",
      "1/1 [==============================] - 2s 2s/step - loss: 0.6233 - accuracy: 0.8000\n",
      "Epoch 14/20\n",
      "1/1 [==============================] - 2s 2s/step - loss: 0.4719 - accuracy: 0.8333\n",
      "Epoch 15/20\n",
      "1/1 [==============================] - 2s 2s/step - loss: 0.1855 - accuracy: 0.9000\n",
      "Epoch 16/20\n",
      "1/1 [==============================] - 2s 2s/step - loss: 0.1534 - accuracy: 0.9333\n",
      "Epoch 17/20\n",
      "1/1 [==============================] - 2s 2s/step - loss: 0.1309 - accuracy: 0.9667\n",
      "Epoch 18/20\n",
      "1/1 [==============================] - 2s 2s/step - loss: 0.0921 - accuracy: 1.0000\n",
      "Epoch 19/20\n",
      "1/1 [==============================] - 2s 2s/step - loss: 0.1124 - accuracy: 0.9667\n",
      "Epoch 20/20\n",
      "1/1 [==============================] - 2s 2s/step - loss: 0.2015 - accuracy: 0.9000\n"
     ]
    }
   ],
   "source": [
    "modelo2 = keras.models.Sequential([layers.Conv2D(64,(5,5),padding ='same',activation ='relu',input_shape = (1249, 129,1)),\n",
    "                                  layers.MaxPool2D(),\n",
    "                                  layers.Conv2D(32,(5,5),padding='same',activation='relu'),\n",
    "                                  layers.MaxPool2D(),\n",
    "                                  layers.Conv2D(32,(5,5),padding='valid',activation='relu'),\n",
    "                                  layers.MaxPool2D(),\n",
    "                                  layers.Flatten(),\n",
    "                                  layers.Dense(240,activation='relu'),\n",
    "                                  layers.Dense(120,activation='relu'),\n",
    "                                  layers.Dense(100,activation='relu'),\n",
    "                                  layers.Dense(5,activation='softmax')])\n",
    "\n",
    "modelo2.compile(loss='categorical_crossentropy',optimizer='adam',metrics=['accuracy'])\n",
    "histori = modelo2.fit(X_train,YTrain,epochs=20,batch_size=128)"
   ]
  },
  {
   "cell_type": "code",
   "execution_count": 19,
   "metadata": {},
   "outputs": [
    {
     "data": {
      "image/png": "[encoded data removed]",
      "text/plain": [
       "<Figure size 640x480 with 1 Axes>"
      ]
     },
     "metadata": {},
     "output_type": "display_data"
    }
   ],
   "source": [
    "plt.plot(histori.history['accuracy'])\n",
    "plt.title(\"ACCURACY\")\n",
    "plt.xlabel(\"Epochs\")\n",
    "plt.ylabel(\"Accuracy\")\n",
    "plt.legend(['train','validation'], loc= 'upper left')\n",
    "plt.show()"
   ]
  },
  {
   "cell_type": "code",
   "execution_count": 20,
   "metadata": {},
   "outputs": [
    {
     "name": "stdout",
     "output_type": "stream",
     "text": [
      "1/1 [==============================] - 0s 218ms/step - loss: 5.3760 - accuracy: 0.5333\n"
     ]
    },
    {
     "data": {
      "text/plain": [
       "[5.376016139984131, 0.5333333611488342]"
      ]
     },
     "execution_count": 20,
     "metadata": {},
     "output_type": "execute_result"
    }
   ],
   "source": [
    "modelo2.evaluate(X_test,YTest)"
   ]
  },
  {
   "cell_type": "code",
   "execution_count": 21,
   "metadata": {},
   "outputs": [
    {
     "name": "stdout",
     "output_type": "stream",
     "text": [
      "1/1 [==============================] - 0s 204ms/step\n"
     ]
    },
    {
     "data": {
      "image/png": "[encoded data removed]",
      "text/plain": [
       "<Figure size 640x480 with 2 Axes>"
      ]
     },
     "metadata": {},
     "output_type": "display_data"
    }
   ],
   "source": [
    "ypredic=modelo2.predict(X_test)\n",
    "\n",
    "y_test_class = np.argmax(YTest,axis=1) \n",
    "y_pred_class = np.argmax(ypredic,axis=1) \n",
    "\n",
    "#Accuracy of the predicted values\n",
    "cm = confusion_matrix(y_test_class, y_pred_class)\n",
    "# visualize the confusion matrix in a heat map\n",
    "df_cm = pd.DataFrame(cm)\n",
    "heatmap = sns.heatmap(df_cm, annot=True, fmt=\"d\")"
   ]
  },
  {
   "cell_type": "markdown",
   "metadata": {},
   "source": [
    "### MLP"
   ]
  },
  {
   "cell_type": "code",
   "execution_count": 22,
   "metadata": {},
   "outputs": [
    {
     "name": "stdout",
     "output_type": "stream",
     "text": [
      "(30, 1249, 129)\n",
      "(30, 5)\n"
     ]
    }
   ],
   "source": [
    "print(Xtrain.shape)\n",
    "print(YTrain.shape)"
   ]
  },
  {
   "cell_type": "code",
   "execution_count": 23,
   "metadata": {},
   "outputs": [],
   "source": [
    "Xtrain = Xtrain.reshape((30,1249*129))\n",
    "YTrain = YTrain.reshape(30,5)"
   ]
  },
  {
   "cell_type": "code",
   "execution_count": 24,
   "metadata": {},
   "outputs": [
    {
     "name": "stderr",
     "output_type": "stream",
     "text": [
      "c:\\Users\\PC\\anaconda3\\envs\\DeepLearning\\lib\\site-packages\\sklearn\\neural_network\\_multilayer_perceptron.py:691: ConvergenceWarning: Stochastic Optimizer: Maximum iterations (100) reached and the optimization hasn't converged yet.\n",
      "  warnings.warn(\n"
     ]
    },
    {
     "data": {
      "text/html": [
       "<style>#sk-container-id-1 {color: black;}#sk-container-id-1 pre{padding: 0;}#sk-container-id-1 div.sk-toggleable {background-color: white;}#sk-container-id-1 label.sk-toggleable__label {cursor: pointer;display: block;width: 100%;margin-bottom: 0;padding: 0.3em;box-sizing: border-box;text-align: center;}#sk-container-id-1 label.sk-toggleable__label-arrow:before {content: \"▸\";float: left;margin-right: 0.25em;color: #696969;}#sk-container-id-1 label.sk-toggleable__label-arrow:hover:before {color: black;}#sk-container-id-1 div.sk-estimator:hover label.sk-toggleable__label-arrow:before {color: black;}#sk-container-id-1 div.sk-toggleable__content {max-height: 0;max-width: 0;overflow: hidden;text-align: left;background-color: #f0f8ff;}#sk-container-id-1 div.sk-toggleable__content pre {margin: 0.2em;color: black;border-radius: 0.25em;background-color: #f0f8ff;}#sk-container-id-1 input.sk-toggleable__control:checked~div.sk-toggleable__content {max-height: 200px;max-width: 100%;overflow: auto;}#sk-container-id-1 input.sk-toggleable__control:checked~label.sk-toggleable__label-arrow:before {content: \"▾\";}#sk-container-id-1 div.sk-estimator input.sk-toggleable__control:checked~label.sk-toggleable__label {background-color: #d4ebff;}#sk-container-id-1 div.sk-label input.sk-toggleable__control:checked~label.sk-toggleable__label {background-color: #d4ebff;}#sk-container-id-1 input.sk-hidden--visually {border: 0;clip: rect(1px 1px 1px 1px);clip: rect(1px, 1px, 1px, 1px);height: 1px;margin: -1px;overflow: hidden;padding: 0;position: absolute;width: 1px;}#sk-container-id-1 div.sk-estimator {font-family: monospace;background-color: #f0f8ff;border: 1px dotted black;border-radius: 0.25em;box-sizing: border-box;margin-bottom: 0.5em;}#sk-container-id-1 div.sk-estimator:hover {background-color: #d4ebff;}#sk-container-id-1 div.sk-parallel-item::after {content: \"\";width: 100%;border-bottom: 1px solid gray;flex-grow: 1;}#sk-container-id-1 div.sk-label:hover label.sk-toggleable__label {background-color: #d4ebff;}#sk-container-id-1 div.sk-serial::before {content: \"\";position: absolute;border-left: 1px solid gray;box-sizing: border-box;top: 0;bottom: 0;left: 50%;z-index: 0;}#sk-container-id-1 div.sk-serial {display: flex;flex-direction: column;align-items: center;background-color: white;padding-right: 0.2em;padding-left: 0.2em;position: relative;}#sk-container-id-1 div.sk-item {position: relative;z-index: 1;}#sk-container-id-1 div.sk-parallel {display: flex;align-items: stretch;justify-content: center;background-color: white;position: relative;}#sk-container-id-1 div.sk-item::before, #sk-container-id-1 div.sk-parallel-item::before {content: \"\";position: absolute;border-left: 1px solid gray;box-sizing: border-box;top: 0;bottom: 0;left: 50%;z-index: -1;}#sk-container-id-1 div.sk-parallel-item {display: flex;flex-direction: column;z-index: 1;position: relative;background-color: white;}#sk-container-id-1 div.sk-parallel-item:first-child::after {align-self: flex-end;width: 50%;}#sk-container-id-1 div.sk-parallel-item:last-child::after {align-self: flex-start;width: 50%;}#sk-container-id-1 div.sk-parallel-item:only-child::after {width: 0;}#sk-container-id-1 div.sk-dashed-wrapped {border: 1px dashed gray;margin: 0 0.4em 0.5em 0.4em;box-sizing: border-box;padding-bottom: 0.4em;background-color: white;}#sk-container-id-1 div.sk-label label {font-family: monospace;font-weight: bold;display: inline-block;line-height: 1.2em;}#sk-container-id-1 div.sk-label-container {text-align: center;}#sk-container-id-1 div.sk-container {/* jupyter's `normalize.less` sets `[hidden] { display: none; }` but bootstrap.min.css set `[hidden] { display: none !important; }` so we also need the `!important` here to be able to override the default hidden behavior on the sphinx rendered scikit-learn.org. See: https://github.com/scikit-learn/scikit-learn/issues/21755 */display: inline-block !important;position: relative;}#sk-container-id-1 div.sk-text-repr-fallback {display: none;}</style><div id=\"sk-container-id-1\" class=\"sk-top-container\"><div class=\"sk-text-repr-fallback\"><pre>MLPClassifier(hidden_layer_sizes=(64, 32), max_iter=100, random_state=42)</pre><b>In a Jupyter environment, please rerun this cell to show the HTML representation or trust the notebook. <br />On GitHub, the HTML representation is unable to render, please try loading this page with nbviewer.org.</b></div><div class=\"sk-container\" hidden><div class=\"sk-item\"><div class=\"sk-estimator sk-toggleable\"><input class=\"sk-toggleable__control sk-hidden--visually\" id=\"sk-estimator-id-1\" type=\"checkbox\" checked><label for=\"sk-estimator-id-1\" class=\"sk-toggleable__label sk-toggleable__label-arrow\">MLPClassifier</label><div class=\"sk-toggleable__content\"><pre>MLPClassifier(hidden_layer_sizes=(64, 32), max_iter=100, random_state=42)</pre></div></div></div></div></div>"
      ],
      "text/plain": [
       "MLPClassifier(hidden_layer_sizes=(64, 32), max_iter=100, random_state=42)"
      ]
     },
     "execution_count": 24,
     "metadata": {},
     "output_type": "execute_result"
    }
   ],
   "source": [
    "mlp = MLPClassifier(hidden_layer_sizes=(64, 32),\n",
    "                    max_iter=100, random_state=42)\n",
    "mlp.fit(Xtrain, YTrain)"
   ]
  },
  {
   "cell_type": "code",
   "execution_count": 25,
   "metadata": {},
   "outputs": [],
   "source": [
    "Xtest = Xtest.reshape((15,1249*129))\n",
    "YTest = YTest.reshape(15,5)"
   ]
  },
  {
   "cell_type": "code",
   "execution_count": 26,
   "metadata": {},
   "outputs": [
    {
     "name": "stdout",
     "output_type": "stream",
     "text": [
      "0.4\n"
     ]
    }
   ],
   "source": [
    "p = mlp.predict(Xtest)\n",
    "acc = accuracy_score(YTest, p)\n",
    "print(acc)"
   ]
  },
  {
   "cell_type": "markdown",
   "metadata": {},
   "source": [
    "# **HAR**"
   ]
  },
  {
   "cell_type": "markdown",
   "metadata": {},
   "source": [
    "## **Etapa 1: Carga de Datos**"
   ]
  },
  {
   "cell_type": "code",
   "execution_count": 3,
   "metadata": {},
   "outputs": [],
   "source": [
    "current_path = pl.Path.cwd()\n",
    "training_path = current_path.joinpath('Muestras_Acelerometro_Train')\n",
    "testing_path = current_path.joinpath('Muestras_Acelerometro_test')\n",
    "train = list(training_path.glob('*.json'))\n",
    "test = list(testing_path.glob('*.json'))"
   ]
  },
  {
   "cell_type": "code",
   "execution_count": 4,
   "metadata": {},
   "outputs": [
    {
     "data": {
      "text/html": [
       "<div>\n",
       "<style scoped>\n",
       "    .dataframe tbody tr th:only-of-type {\n",
       "        vertical-align: middle;\n",
       "    }\n",
       "\n",
       "    .dataframe tbody tr th {\n",
       "        vertical-align: top;\n",
       "    }\n",
       "\n",
       "    .dataframe thead th {\n",
       "        text-align: right;\n",
       "    }\n",
       "</style>\n",
       "<table border=\"1\" class=\"dataframe\">\n",
       "  <thead>\n",
       "    <tr style=\"text-align: right;\">\n",
       "      <th></th>\n",
       "      <th>protected</th>\n",
       "      <th>signature</th>\n",
       "      <th>payload</th>\n",
       "    </tr>\n",
       "  </thead>\n",
       "  <tbody>\n",
       "    <tr>\n",
       "      <th>ver</th>\n",
       "      <td>v1</td>\n",
       "      <td>dfb25525f920eaec1f82008a27022f3f85b69a53bc1233...</td>\n",
       "      <td>NaN</td>\n",
       "    </tr>\n",
       "    <tr>\n",
       "      <th>alg</th>\n",
       "      <td>HS256</td>\n",
       "      <td>dfb25525f920eaec1f82008a27022f3f85b69a53bc1233...</td>\n",
       "      <td>NaN</td>\n",
       "    </tr>\n",
       "    <tr>\n",
       "      <th>iat</th>\n",
       "      <td>1713213017</td>\n",
       "      <td>dfb25525f920eaec1f82008a27022f3f85b69a53bc1233...</td>\n",
       "      <td>NaN</td>\n",
       "    </tr>\n",
       "    <tr>\n",
       "      <th>device_name</th>\n",
       "      <td>NaN</td>\n",
       "      <td>dfb25525f920eaec1f82008a27022f3f85b69a53bc1233...</td>\n",
       "      <td>phone_lv1eftlu</td>\n",
       "    </tr>\n",
       "    <tr>\n",
       "      <th>device_type</th>\n",
       "      <td>NaN</td>\n",
       "      <td>dfb25525f920eaec1f82008a27022f3f85b69a53bc1233...</td>\n",
       "      <td>MOBILE_CLIENT</td>\n",
       "    </tr>\n",
       "    <tr>\n",
       "      <th>interval_ms</th>\n",
       "      <td>NaN</td>\n",
       "      <td>dfb25525f920eaec1f82008a27022f3f85b69a53bc1233...</td>\n",
       "      <td>16</td>\n",
       "    </tr>\n",
       "    <tr>\n",
       "      <th>sensors</th>\n",
       "      <td>NaN</td>\n",
       "      <td>dfb25525f920eaec1f82008a27022f3f85b69a53bc1233...</td>\n",
       "      <td>[{'name': 'accX', 'units': 'm/s2'}, {'name': '...</td>\n",
       "    </tr>\n",
       "    <tr>\n",
       "      <th>values</th>\n",
       "      <td>NaN</td>\n",
       "      <td>dfb25525f920eaec1f82008a27022f3f85b69a53bc1233...</td>\n",
       "      <td>[[-2.88231864683777, -9.35294761635661, 0.8134...</td>\n",
       "    </tr>\n",
       "  </tbody>\n",
       "</table>\n",
       "</div>"
      ],
      "text/plain": [
       "              protected                                          signature  \\\n",
       "ver                  v1  dfb25525f920eaec1f82008a27022f3f85b69a53bc1233...   \n",
       "alg               HS256  dfb25525f920eaec1f82008a27022f3f85b69a53bc1233...   \n",
       "iat          1713213017  dfb25525f920eaec1f82008a27022f3f85b69a53bc1233...   \n",
       "device_name         NaN  dfb25525f920eaec1f82008a27022f3f85b69a53bc1233...   \n",
       "device_type         NaN  dfb25525f920eaec1f82008a27022f3f85b69a53bc1233...   \n",
       "interval_ms         NaN  dfb25525f920eaec1f82008a27022f3f85b69a53bc1233...   \n",
       "sensors             NaN  dfb25525f920eaec1f82008a27022f3f85b69a53bc1233...   \n",
       "values              NaN  dfb25525f920eaec1f82008a27022f3f85b69a53bc1233...   \n",
       "\n",
       "                                                       payload  \n",
       "ver                                                        NaN  \n",
       "alg                                                        NaN  \n",
       "iat                                                        NaN  \n",
       "device_name                                     phone_lv1eftlu  \n",
       "device_type                                      MOBILE_CLIENT  \n",
       "interval_ms                                                 16  \n",
       "sensors      [{'name': 'accX', 'units': 'm/s2'}, {'name': '...  \n",
       "values       [[-2.88231864683777, -9.35294761635661, 0.8134...  "
      ]
     },
     "execution_count": 4,
     "metadata": {},
     "output_type": "execute_result"
    }
   ],
   "source": [
    "Ruta = train[0]\n",
    "Data = pd.read_json(Ruta)\n",
    "Data.head(10)"
   ]
  },
  {
   "cell_type": "code",
   "execution_count": 5,
   "metadata": {},
   "outputs": [
    {
     "name": "stdout",
     "output_type": "stream",
     "text": [
      "(611, 3)\n"
     ]
    },
    {
     "data": {
      "image/png": "[encoded data removed]",
      "text/plain": [
       "<Figure size 640x480 with 1 Axes>"
      ]
     },
     "metadata": {},
     "output_type": "display_data"
    }
   ],
   "source": [
    "Valores = Data.iloc[:,:].values\n",
    "Datos_aux= Valores[7,2][0:-1]\n",
    "Datos_XYZ = np.array(Datos_aux)\n",
    "Datos_XYZ\n",
    "plt.plot(Datos_XYZ)\n",
    "print(Datos_XYZ.shape)"
   ]
  },
  {
   "cell_type": "code",
   "execution_count": 6,
   "metadata": {},
   "outputs": [
    {
     "name": "stdout",
     "output_type": "stream",
     "text": [
      "(18330, 3)\n",
      "(9165, 3)\n"
     ]
    }
   ],
   "source": [
    "Train_data = Obtener_dataset(train)\n",
    "print(Train_data.shape)\n",
    "Test_data = Obtener_dataset(test)\n",
    "print(Test_data.shape)"
   ]
  },
  {
   "cell_type": "code",
   "execution_count": 7,
   "metadata": {},
   "outputs": [
    {
     "name": "stdout",
     "output_type": "stream",
     "text": [
      "(18330, 3)\n"
     ]
    },
    {
     "data": {
      "image/png": "[encoded data removed]",
      "text/plain": [
       "<Figure size 640x480 with 1 Axes>"
      ]
     },
     "metadata": {},
     "output_type": "display_data"
    }
   ],
   "source": [
    "Scaler = MinMaxScaler()\n",
    "Scaler.fit(Train_data)\n",
    "Train_data_N = Scaler.transform(Train_data)\n",
    "plt.plot(Train_data_N)\n",
    "print(Train_data_N.shape)"
   ]
  },
  {
   "cell_type": "markdown",
   "metadata": {},
   "source": [
    "## **Etapa 2: Crear X_Train y Y_Train**"
   ]
  },
  {
   "cell_type": "markdown",
   "metadata": {},
   "source": [
    "### XTrain"
   ]
  },
  {
   "cell_type": "code",
   "execution_count": 8,
   "metadata": {},
   "outputs": [
    {
     "name": "stdout",
     "output_type": "stream",
     "text": [
      "(10, 1833, 3)\n"
     ]
    }
   ],
   "source": [
    "XTrain_mov = np.zeros((10,1833,3))\n",
    "\n",
    "for i in range(10):\n",
    "    XTrain_mov[i,:,0] = Train_data_N[i*1833:(i+1)*1833,0].T\n",
    "    XTrain_mov[i,:,1] = Train_data_N[i*1833:(i+1)*1833,1].T\n",
    "    XTrain_mov[i,:,2] = Train_data_N[i*1833:(i+1)*1833,2].T\n",
    "print(XTrain_mov.shape)"
   ]
  },
  {
   "cell_type": "markdown",
   "metadata": {},
   "source": [
    "### YTrain"
   ]
  },
  {
   "cell_type": "code",
   "execution_count": 9,
   "metadata": {},
   "outputs": [],
   "source": [
    "YTrain_mov = np.zeros((10,1))\n",
    "for i in range(1):\n",
    "    YTrain_mov[i] = 0\n",
    "for i in range(1,2):\n",
    "    YTrain_mov[i] = 1\n",
    "for i in range(2,3):\n",
    "    YTrain_mov[i] = 2\n",
    "for i in range(3,4):\n",
    "    YTrain_mov[i] = 3\n",
    "for i in range(4,5):\n",
    "    YTrain_mov[i] = 4\n",
    "for i in range(5,6):\n",
    "    YTrain_mov[i] = 0\n",
    "for i in range(6,7):\n",
    "    YTrain_mov[i] = 1\n",
    "for i in range(7,8):\n",
    "    YTrain_mov[i] = 2\n",
    "for i in range(8,9):\n",
    "    YTrain_mov[i] = 3\n",
    "for i in range(9,10):\n",
    "    YTrain_mov[i] = 4\n",
    "    \n",
    "YTrain_mov = keras.utils.to_categorical(YTrain_mov)"
   ]
  },
  {
   "cell_type": "code",
   "execution_count": 10,
   "metadata": {},
   "outputs": [
    {
     "data": {
      "text/plain": [
       "(10, 5)"
      ]
     },
     "execution_count": 10,
     "metadata": {},
     "output_type": "execute_result"
    }
   ],
   "source": [
    "YTrain_mov.shape"
   ]
  },
  {
   "cell_type": "markdown",
   "metadata": {},
   "source": [
    "### XTest"
   ]
  },
  {
   "cell_type": "code",
   "execution_count": 11,
   "metadata": {},
   "outputs": [
    {
     "name": "stdout",
     "output_type": "stream",
     "text": [
      "(5, 1833, 3)\n"
     ]
    }
   ],
   "source": [
    "XTest_mov = np.zeros((5,1833,3))\n",
    "\n",
    "for i in range(5):\n",
    "    XTest_mov[i,:,0] = Train_data_N[i*1833:(i+1)*1833,0].T\n",
    "    XTest_mov[i,:,1] = Train_data_N[i*1833:(i+1)*1833,1].T\n",
    "    XTest_mov[i,:,2] = Train_data_N[i*1833:(i+1)*1833,2].T\n",
    "print(XTest_mov.shape)"
   ]
  },
  {
   "cell_type": "markdown",
   "metadata": {},
   "source": [
    "### YTest"
   ]
  },
  {
   "cell_type": "code",
   "execution_count": 12,
   "metadata": {},
   "outputs": [],
   "source": [
    "YTest_mov = np.zeros((5,1))\n",
    "for i in range(1):\n",
    "    YTest_mov[i] = 0\n",
    "for i in range(1,2):\n",
    "    YTest_mov[i] = 1\n",
    "for i in range(2,3):\n",
    "    YTest_mov[i] = 2\n",
    "for i in range(3,4):\n",
    "    YTest_mov[i] = 3\n",
    "for i in range(4,5):\n",
    "    YTest_mov[i] = 4\n",
    "    \n",
    "YTest_mov = keras.utils.to_categorical(YTest_mov)"
   ]
  },
  {
   "cell_type": "code",
   "execution_count": 13,
   "metadata": {},
   "outputs": [
    {
     "data": {
      "text/plain": [
       "array([[1., 0., 0., 0., 0.],\n",
       "       [0., 1., 0., 0., 0.],\n",
       "       [0., 0., 1., 0., 0.],\n",
       "       [0., 0., 0., 1., 0.],\n",
       "       [0., 0., 0., 0., 1.]], dtype=float32)"
      ]
     },
     "execution_count": 13,
     "metadata": {},
     "output_type": "execute_result"
    }
   ],
   "source": [
    "YTest_mov"
   ]
  },
  {
   "cell_type": "markdown",
   "metadata": {},
   "source": [
    "## **Etapa 3: Modelos**"
   ]
  },
  {
   "cell_type": "markdown",
   "metadata": {},
   "source": [
    "### Crear Modelo Conv1D"
   ]
  },
  {
   "cell_type": "code",
   "execution_count": 14,
   "metadata": {},
   "outputs": [
    {
     "name": "stdout",
     "output_type": "stream",
     "text": [
      "Epoch 1/150\n",
      "1/1 [==============================] - 0s 441ms/step - loss: 1.6166 - accuracy: 0.2000\n",
      "Epoch 2/150\n",
      "1/1 [==============================] - 0s 13ms/step - loss: 1.4689 - accuracy: 0.2000\n",
      "Epoch 3/150\n",
      "1/1 [==============================] - 0s 14ms/step - loss: 1.3002 - accuracy: 0.5000\n",
      "Epoch 4/150\n",
      "1/1 [==============================] - 0s 12ms/step - loss: 1.1142 - accuracy: 0.7000\n",
      "Epoch 5/150\n",
      "1/1 [==============================] - 0s 13ms/step - loss: 0.9306 - accuracy: 0.7000\n",
      "Epoch 6/150\n",
      "1/1 [==============================] - 0s 13ms/step - loss: 0.7638 - accuracy: 0.7000\n",
      "Epoch 7/150\n",
      "1/1 [==============================] - 0s 14ms/step - loss: 0.6109 - accuracy: 0.8000\n",
      "Epoch 8/150\n",
      "1/1 [==============================] - 0s 13ms/step - loss: 0.4890 - accuracy: 0.8000\n",
      "Epoch 9/150\n",
      "1/1 [==============================] - 0s 13ms/step - loss: 0.3903 - accuracy: 0.9000\n",
      "Epoch 10/150\n",
      "1/1 [==============================] - 0s 14ms/step - loss: 0.3149 - accuracy: 1.0000\n",
      "Epoch 11/150\n",
      "1/1 [==============================] - 0s 13ms/step - loss: 0.2543 - accuracy: 1.0000\n",
      "Epoch 12/150\n",
      "1/1 [==============================] - 0s 13ms/step - loss: 0.2067 - accuracy: 1.0000\n",
      "Epoch 13/150\n",
      "1/1 [==============================] - 0s 13ms/step - loss: 0.1647 - accuracy: 1.0000\n",
      "Epoch 14/150\n",
      "1/1 [==============================] - 0s 14ms/step - loss: 0.1328 - accuracy: 1.0000\n",
      "Epoch 15/150\n",
      "1/1 [==============================] - 0s 13ms/step - loss: 0.1002 - accuracy: 1.0000\n",
      "Epoch 16/150\n",
      "1/1 [==============================] - 0s 12ms/step - loss: 0.0767 - accuracy: 1.0000\n",
      "Epoch 17/150\n",
      "1/1 [==============================] - 0s 13ms/step - loss: 0.0536 - accuracy: 1.0000\n",
      "Epoch 18/150\n",
      "1/1 [==============================] - 0s 14ms/step - loss: 0.0408 - accuracy: 1.0000\n",
      "Epoch 19/150\n",
      "1/1 [==============================] - 0s 13ms/step - loss: 0.0289 - accuracy: 1.0000\n",
      "Epoch 20/150\n",
      "1/1 [==============================] - 0s 13ms/step - loss: 0.0214 - accuracy: 1.0000\n",
      "Epoch 21/150\n",
      "1/1 [==============================] - 0s 13ms/step - loss: 0.0161 - accuracy: 1.0000\n",
      "Epoch 22/150\n",
      "1/1 [==============================] - 0s 13ms/step - loss: 0.0112 - accuracy: 1.0000\n",
      "Epoch 23/150\n",
      "1/1 [==============================] - 0s 13ms/step - loss: 0.0087 - accuracy: 1.0000\n",
      "Epoch 24/150\n",
      "1/1 [==============================] - 0s 14ms/step - loss: 0.0068 - accuracy: 1.0000\n",
      "Epoch 25/150\n",
      "1/1 [==============================] - 0s 17ms/step - loss: 0.0049 - accuracy: 1.0000\n",
      "Epoch 26/150\n",
      "1/1 [==============================] - 0s 13ms/step - loss: 0.0036 - accuracy: 1.0000\n",
      "Epoch 27/150\n",
      "1/1 [==============================] - 0s 12ms/step - loss: 0.0029 - accuracy: 1.0000\n",
      "Epoch 28/150\n",
      "1/1 [==============================] - 0s 14ms/step - loss: 0.0024 - accuracy: 1.0000\n",
      "Epoch 29/150\n",
      "1/1 [==============================] - 0s 14ms/step - loss: 0.0019 - accuracy: 1.0000\n",
      "Epoch 30/150\n",
      "1/1 [==============================] - 0s 13ms/step - loss: 0.0014 - accuracy: 1.0000\n",
      "Epoch 31/150\n",
      "1/1 [==============================] - 0s 14ms/step - loss: 0.0011 - accuracy: 1.0000\n",
      "Epoch 32/150\n",
      "1/1 [==============================] - 0s 13ms/step - loss: 9.0967e-04 - accuracy: 1.0000\n",
      "Epoch 33/150\n",
      "1/1 [==============================] - 0s 13ms/step - loss: 7.7923e-04 - accuracy: 1.0000\n",
      "Epoch 34/150\n",
      "1/1 [==============================] - 0s 12ms/step - loss: 6.8868e-04 - accuracy: 1.0000\n",
      "Epoch 35/150\n",
      "1/1 [==============================] - 0s 13ms/step - loss: 6.1308e-04 - accuracy: 1.0000\n",
      "Epoch 36/150\n",
      "1/1 [==============================] - 0s 14ms/step - loss: 5.4123e-04 - accuracy: 1.0000\n",
      "Epoch 37/150\n",
      "1/1 [==============================] - 0s 13ms/step - loss: 4.7212e-04 - accuracy: 1.0000\n",
      "Epoch 38/150\n",
      "1/1 [==============================] - 0s 13ms/step - loss: 4.0895e-04 - accuracy: 1.0000\n",
      "Epoch 39/150\n",
      "1/1 [==============================] - 0s 13ms/step - loss: 3.5485e-04 - accuracy: 1.0000\n",
      "Epoch 40/150\n",
      "1/1 [==============================] - 0s 13ms/step - loss: 3.1114e-04 - accuracy: 1.0000\n",
      "Epoch 41/150\n",
      "1/1 [==============================] - 0s 13ms/step - loss: 2.7735e-04 - accuracy: 1.0000\n",
      "Epoch 42/150\n",
      "1/1 [==============================] - 0s 12ms/step - loss: 2.5174e-04 - accuracy: 1.0000\n",
      "Epoch 43/150\n",
      "1/1 [==============================] - 0s 12ms/step - loss: 2.3252e-04 - accuracy: 1.0000\n",
      "Epoch 44/150\n",
      "1/1 [==============================] - 0s 13ms/step - loss: 2.1779e-04 - accuracy: 1.0000\n",
      "Epoch 45/150\n",
      "1/1 [==============================] - 0s 14ms/step - loss: 2.0601e-04 - accuracy: 1.0000\n",
      "Epoch 46/150\n",
      "1/1 [==============================] - 0s 13ms/step - loss: 1.9594e-04 - accuracy: 1.0000\n",
      "Epoch 47/150\n",
      "1/1 [==============================] - 0s 13ms/step - loss: 1.8685e-04 - accuracy: 1.0000\n",
      "Epoch 48/150\n",
      "1/1 [==============================] - 0s 13ms/step - loss: 1.7819e-04 - accuracy: 1.0000\n",
      "Epoch 49/150\n",
      "1/1 [==============================] - 0s 12ms/step - loss: 1.6975e-04 - accuracy: 1.0000\n",
      "Epoch 50/150\n",
      "1/1 [==============================] - 0s 13ms/step - loss: 1.6156e-04 - accuracy: 1.0000\n",
      "Epoch 51/150\n",
      "1/1 [==============================] - 0s 14ms/step - loss: 1.5370e-04 - accuracy: 1.0000\n",
      "Epoch 52/150\n",
      "1/1 [==============================] - 0s 14ms/step - loss: 1.4629e-04 - accuracy: 1.0000\n",
      "Epoch 53/150\n",
      "1/1 [==============================] - 0s 12ms/step - loss: 1.3949e-04 - accuracy: 1.0000\n",
      "Epoch 54/150\n",
      "1/1 [==============================] - 0s 22ms/step - loss: 1.3339e-04 - accuracy: 1.0000\n",
      "Epoch 55/150\n",
      "1/1 [==============================] - 0s 17ms/step - loss: 1.2798e-04 - accuracy: 1.0000\n",
      "Epoch 56/150\n",
      "1/1 [==============================] - 0s 15ms/step - loss: 1.2334e-04 - accuracy: 1.0000\n",
      "Epoch 57/150\n",
      "1/1 [==============================] - 0s 12ms/step - loss: 1.1935e-04 - accuracy: 1.0000\n",
      "Epoch 58/150\n",
      "1/1 [==============================] - 0s 14ms/step - loss: 1.1598e-04 - accuracy: 1.0000\n",
      "Epoch 59/150\n",
      "1/1 [==============================] - 0s 14ms/step - loss: 1.1312e-04 - accuracy: 1.0000\n",
      "Epoch 60/150\n",
      "1/1 [==============================] - 0s 13ms/step - loss: 1.1070e-04 - accuracy: 1.0000\n",
      "Epoch 61/150\n",
      "1/1 [==============================] - 0s 13ms/step - loss: 1.0859e-04 - accuracy: 1.0000\n",
      "Epoch 62/150\n",
      "1/1 [==============================] - 0s 14ms/step - loss: 1.0672e-04 - accuracy: 1.0000\n",
      "Epoch 63/150\n",
      "1/1 [==============================] - 0s 13ms/step - loss: 1.0497e-04 - accuracy: 1.0000\n",
      "Epoch 64/150\n",
      "1/1 [==============================] - 0s 14ms/step - loss: 1.0331e-04 - accuracy: 1.0000\n",
      "Epoch 65/150\n",
      "1/1 [==============================] - 0s 12ms/step - loss: 1.0174e-04 - accuracy: 1.0000\n",
      "Epoch 66/150\n",
      "1/1 [==============================] - 0s 15ms/step - loss: 1.0019e-04 - accuracy: 1.0000\n",
      "Epoch 67/150\n",
      "1/1 [==============================] - 0s 13ms/step - loss: 9.8625e-05 - accuracy: 1.0000\n",
      "Epoch 68/150\n",
      "1/1 [==============================] - 0s 14ms/step - loss: 9.7100e-05 - accuracy: 1.0000\n",
      "Epoch 69/150\n",
      "1/1 [==============================] - 0s 13ms/step - loss: 9.5622e-05 - accuracy: 1.0000\n",
      "Epoch 70/150\n",
      "1/1 [==============================] - 0s 13ms/step - loss: 9.4191e-05 - accuracy: 1.0000\n",
      "Epoch 71/150\n",
      "1/1 [==============================] - 0s 12ms/step - loss: 9.2773e-05 - accuracy: 1.0000\n",
      "Epoch 72/150\n",
      "1/1 [==============================] - 0s 14ms/step - loss: 9.1438e-05 - accuracy: 1.0000\n",
      "Epoch 73/150\n",
      "1/1 [==============================] - 0s 12ms/step - loss: 9.0198e-05 - accuracy: 1.0000\n",
      "Epoch 74/150\n",
      "1/1 [==============================] - 0s 12ms/step - loss: 8.9018e-05 - accuracy: 1.0000\n",
      "Epoch 75/150\n",
      "1/1 [==============================] - 0s 13ms/step - loss: 8.7886e-05 - accuracy: 1.0000\n",
      "Epoch 76/150\n",
      "1/1 [==============================] - 0s 13ms/step - loss: 8.6861e-05 - accuracy: 1.0000\n",
      "Epoch 77/150\n",
      "1/1 [==============================] - 0s 14ms/step - loss: 8.5931e-05 - accuracy: 1.0000\n",
      "Epoch 78/150\n",
      "1/1 [==============================] - 0s 13ms/step - loss: 8.5013e-05 - accuracy: 1.0000\n",
      "Epoch 79/150\n",
      "1/1 [==============================] - 0s 13ms/step - loss: 8.4119e-05 - accuracy: 1.0000\n",
      "Epoch 80/150\n",
      "1/1 [==============================] - 0s 15ms/step - loss: 8.3285e-05 - accuracy: 1.0000\n",
      "Epoch 81/150\n",
      "1/1 [==============================] - 0s 12ms/step - loss: 8.2415e-05 - accuracy: 1.0000\n",
      "Epoch 82/150\n",
      "1/1 [==============================] - 0s 12ms/step - loss: 8.1628e-05 - accuracy: 1.0000\n",
      "Epoch 83/150\n",
      "1/1 [==============================] - 0s 12ms/step - loss: 8.0793e-05 - accuracy: 1.0000\n",
      "Epoch 84/150\n",
      "1/1 [==============================] - 0s 14ms/step - loss: 7.9923e-05 - accuracy: 1.0000\n",
      "Epoch 85/150\n",
      "1/1 [==============================] - 0s 13ms/step - loss: 7.9065e-05 - accuracy: 1.0000\n",
      "Epoch 86/150\n",
      "1/1 [==============================] - 0s 14ms/step - loss: 7.8171e-05 - accuracy: 1.0000\n",
      "Epoch 87/150\n",
      "1/1 [==============================] - 0s 14ms/step - loss: 7.7241e-05 - accuracy: 1.0000\n",
      "Epoch 88/150\n",
      "1/1 [==============================] - 0s 13ms/step - loss: 7.6264e-05 - accuracy: 1.0000\n",
      "Epoch 89/150\n",
      "1/1 [==============================] - 0s 13ms/step - loss: 7.5239e-05 - accuracy: 1.0000\n",
      "Epoch 90/150\n",
      "1/1 [==============================] - 0s 14ms/step - loss: 7.4226e-05 - accuracy: 1.0000\n",
      "Epoch 91/150\n",
      "1/1 [==============================] - 0s 14ms/step - loss: 7.3165e-05 - accuracy: 1.0000\n",
      "Epoch 92/150\n",
      "1/1 [==============================] - 0s 14ms/step - loss: 7.2152e-05 - accuracy: 1.0000\n",
      "Epoch 93/150\n",
      "1/1 [==============================] - 0s 14ms/step - loss: 7.1091e-05 - accuracy: 1.0000\n",
      "Epoch 94/150\n",
      "1/1 [==============================] - 0s 14ms/step - loss: 7.0054e-05 - accuracy: 1.0000\n",
      "Epoch 95/150\n",
      "1/1 [==============================] - 0s 14ms/step - loss: 6.9017e-05 - accuracy: 1.0000\n",
      "Epoch 96/150\n",
      "1/1 [==============================] - 0s 14ms/step - loss: 6.8206e-05 - accuracy: 1.0000\n",
      "Epoch 97/150\n",
      "1/1 [==============================] - 0s 14ms/step - loss: 6.7599e-05 - accuracy: 1.0000\n",
      "Epoch 98/150\n",
      "1/1 [==============================] - 0s 14ms/step - loss: 6.7181e-05 - accuracy: 1.0000\n",
      "Epoch 99/150\n",
      "1/1 [==============================] - 0s 14ms/step - loss: 6.6800e-05 - accuracy: 1.0000\n",
      "Epoch 100/150\n",
      "1/1 [==============================] - 0s 14ms/step - loss: 6.6371e-05 - accuracy: 1.0000\n",
      "Epoch 101/150\n",
      "1/1 [==============================] - 0s 14ms/step - loss: 6.5823e-05 - accuracy: 1.0000\n",
      "Epoch 102/150\n",
      "1/1 [==============================] - 0s 14ms/step - loss: 6.5167e-05 - accuracy: 1.0000\n",
      "Epoch 103/150\n",
      "1/1 [==============================] - 0s 15ms/step - loss: 6.4440e-05 - accuracy: 1.0000\n",
      "Epoch 104/150\n",
      "1/1 [==============================] - 0s 14ms/step - loss: 6.3689e-05 - accuracy: 1.0000\n",
      "Epoch 105/150\n",
      "1/1 [==============================] - 0s 14ms/step - loss: 6.2986e-05 - accuracy: 1.0000\n",
      "Epoch 106/150\n",
      "1/1 [==============================] - 0s 14ms/step - loss: 6.2354e-05 - accuracy: 1.0000\n",
      "Epoch 107/150\n",
      "1/1 [==============================] - 0s 13ms/step - loss: 6.1746e-05 - accuracy: 1.0000\n",
      "Epoch 108/150\n",
      "1/1 [==============================] - 0s 14ms/step - loss: 6.1174e-05 - accuracy: 1.0000\n",
      "Epoch 109/150\n",
      "1/1 [==============================] - 0s 14ms/step - loss: 6.0590e-05 - accuracy: 1.0000\n",
      "Epoch 110/150\n",
      "1/1 [==============================] - 0s 14ms/step - loss: 6.0077e-05 - accuracy: 1.0000\n",
      "Epoch 111/150\n",
      "1/1 [==============================] - 0s 14ms/step - loss: 5.9625e-05 - accuracy: 1.0000\n",
      "Epoch 112/150\n",
      "1/1 [==============================] - 0s 15ms/step - loss: 5.9136e-05 - accuracy: 1.0000\n",
      "Epoch 113/150\n",
      "1/1 [==============================] - 0s 15ms/step - loss: 5.8647e-05 - accuracy: 1.0000\n",
      "Epoch 114/150\n",
      "1/1 [==============================] - 0s 15ms/step - loss: 5.8194e-05 - accuracy: 1.0000\n",
      "Epoch 115/150\n",
      "1/1 [==============================] - 0s 14ms/step - loss: 5.7694e-05 - accuracy: 1.0000\n",
      "Epoch 116/150\n",
      "1/1 [==============================] - 0s 14ms/step - loss: 5.7205e-05 - accuracy: 1.0000\n",
      "Epoch 117/150\n",
      "1/1 [==============================] - 0s 14ms/step - loss: 5.6680e-05 - accuracy: 1.0000\n",
      "Epoch 118/150\n",
      "1/1 [==============================] - 0s 14ms/step - loss: 5.6204e-05 - accuracy: 1.0000\n",
      "Epoch 119/150\n",
      "1/1 [==============================] - 0s 14ms/step - loss: 5.5739e-05 - accuracy: 1.0000\n",
      "Epoch 120/150\n",
      "1/1 [==============================] - 0s 14ms/step - loss: 5.5298e-05 - accuracy: 1.0000\n",
      "Epoch 121/150\n",
      "1/1 [==============================] - 0s 14ms/step - loss: 5.4809e-05 - accuracy: 1.0000\n",
      "Epoch 122/150\n",
      "1/1 [==============================] - 0s 14ms/step - loss: 5.4273e-05 - accuracy: 1.0000\n",
      "Epoch 123/150\n",
      "1/1 [==============================] - 0s 14ms/step - loss: 5.3593e-05 - accuracy: 1.0000\n",
      "Epoch 124/150\n",
      "1/1 [==============================] - 0s 14ms/step - loss: 5.2914e-05 - accuracy: 1.0000\n",
      "Epoch 125/150\n",
      "1/1 [==============================] - 0s 14ms/step - loss: 5.2139e-05 - accuracy: 1.0000\n",
      "Epoch 126/150\n",
      "1/1 [==============================] - 0s 15ms/step - loss: 5.1424e-05 - accuracy: 1.0000\n",
      "Epoch 127/150\n",
      "1/1 [==============================] - 0s 13ms/step - loss: 5.0828e-05 - accuracy: 1.0000\n",
      "Epoch 128/150\n",
      "1/1 [==============================] - 0s 15ms/step - loss: 5.0268e-05 - accuracy: 1.0000\n",
      "Epoch 129/150\n",
      "1/1 [==============================] - 0s 14ms/step - loss: 4.9696e-05 - accuracy: 1.0000\n",
      "Epoch 130/150\n",
      "1/1 [==============================] - 0s 13ms/step - loss: 4.8980e-05 - accuracy: 1.0000\n",
      "Epoch 131/150\n",
      "1/1 [==============================] - 0s 13ms/step - loss: 4.8182e-05 - accuracy: 1.0000\n",
      "Epoch 132/150\n",
      "1/1 [==============================] - 0s 13ms/step - loss: 4.7300e-05 - accuracy: 1.0000\n",
      "Epoch 133/150\n",
      "1/1 [==============================] - 0s 13ms/step - loss: 4.6394e-05 - accuracy: 1.0000\n",
      "Epoch 134/150\n",
      "1/1 [==============================] - 0s 14ms/step - loss: 4.5571e-05 - accuracy: 1.0000\n",
      "Epoch 135/150\n",
      "1/1 [==============================] - 0s 14ms/step - loss: 4.4808e-05 - accuracy: 1.0000\n",
      "Epoch 136/150\n",
      "1/1 [==============================] - 0s 14ms/step - loss: 4.4022e-05 - accuracy: 1.0000\n",
      "Epoch 137/150\n",
      "1/1 [==============================] - 0s 14ms/step - loss: 4.3211e-05 - accuracy: 1.0000\n",
      "Epoch 138/150\n",
      "1/1 [==============================] - 0s 13ms/step - loss: 4.2365e-05 - accuracy: 1.0000\n",
      "Epoch 139/150\n",
      "1/1 [==============================] - 0s 14ms/step - loss: 4.1459e-05 - accuracy: 1.0000\n",
      "Epoch 140/150\n",
      "1/1 [==============================] - 0s 14ms/step - loss: 4.0577e-05 - accuracy: 1.0000\n",
      "Epoch 141/150\n",
      "1/1 [==============================] - 0s 14ms/step - loss: 3.9754e-05 - accuracy: 1.0000\n",
      "Epoch 142/150\n",
      "1/1 [==============================] - 0s 14ms/step - loss: 3.8956e-05 - accuracy: 1.0000\n",
      "Epoch 143/150\n",
      "1/1 [==============================] - 0s 14ms/step - loss: 3.8181e-05 - accuracy: 1.0000\n",
      "Epoch 144/150\n",
      "1/1 [==============================] - 0s 14ms/step - loss: 3.7406e-05 - accuracy: 1.0000\n",
      "Epoch 145/150\n",
      "1/1 [==============================] - 0s 15ms/step - loss: 3.6488e-05 - accuracy: 1.0000\n",
      "Epoch 146/150\n",
      "1/1 [==============================] - 0s 15ms/step - loss: 3.5726e-05 - accuracy: 1.0000\n",
      "Epoch 147/150\n",
      "1/1 [==============================] - 0s 14ms/step - loss: 3.5034e-05 - accuracy: 1.0000\n",
      "Epoch 148/150\n",
      "1/1 [==============================] - 0s 13ms/step - loss: 3.4319e-05 - accuracy: 1.0000\n",
      "Epoch 149/150\n",
      "1/1 [==============================] - 0s 15ms/step - loss: 3.3580e-05 - accuracy: 1.0000\n",
      "Epoch 150/150\n",
      "1/1 [==============================] - 0s 13ms/step - loss: 3.2841e-05 - accuracy: 1.0000\n"
     ]
    },
    {
     "data": {
      "image/png": "[encoded data removed]",
      "text/plain": [
       "<Figure size 640x480 with 1 Axes>"
      ]
     },
     "metadata": {},
     "output_type": "display_data"
    }
   ],
   "source": [
    "modelo = keras.Sequential()\n",
    "modelo.add(keras.layers.Conv1D(64,3,activation='relu',padding='same',input_shape = (1833,3)))\n",
    "modelo.add(keras.layers.Conv1D(32,3,activation='relu',padding='same'))\n",
    "modelo.add(keras.layers.Conv1D(16,3,activation='relu',padding='same'))\n",
    "modelo.add(keras.layers.MaxPool1D(pool_size=2,strides=2,padding='same'))\n",
    "modelo.add(keras.layers.Flatten())\n",
    "modelo.add(keras.layers.Dense(5,activation='softmax'))\n",
    "modelo.compile(loss='categorical_crossentropy',optimizer='adam',metrics=['accuracy'])\n",
    "historia = modelo.fit(XTrain_mov,YTrain_mov,epochs=150,batch_size=None)\n",
    "train_loss = historia.history['loss']\n",
    "epocas = range(1,len(train_loss)+1)\n",
    "plt.plot(epocas,train_loss,'b',label='Perdida Entrenamiento')\n",
    "plt.xlabel('Epocas')\n",
    "plt.ylabel('Loss')\n",
    "plt.show()"
   ]
  },
  {
   "cell_type": "code",
   "execution_count": 15,
   "metadata": {},
   "outputs": [],
   "source": [
    "Scaler_test = MinMaxScaler()\n",
    "Scaler_test.fit(Test_data)\n",
    "Test_data_N = Scaler_test.transform(Test_data)"
   ]
  },
  {
   "cell_type": "code",
   "execution_count": 16,
   "metadata": {},
   "outputs": [
    {
     "name": "stdout",
     "output_type": "stream",
     "text": [
      "1/1 [==============================] - 0s 73ms/step\n"
     ]
    },
    {
     "data": {
      "image/png": "[encoded data removed]",
      "text/plain": [
       "<Figure size 640x480 with 2 Axes>"
      ]
     },
     "metadata": {},
     "output_type": "display_data"
    }
   ],
   "source": [
    "ypredic_mov = modelo.predict(XTest_mov)\n",
    "y_test_class = np.argmax(YTest_mov,axis=1)\n",
    "y_pres_class = np.argmax(ypredic_mov,axis=1)\n",
    "cm = confusion_matrix(y_test_class,y_pres_class)\n",
    "heatmap = sns.heatmap(pd.DataFrame(cm),annot=True,fmt='d')\n"
   ]
  },
  {
   "cell_type": "code",
   "execution_count": 17,
   "metadata": {},
   "outputs": [
    {
     "name": "stdout",
     "output_type": "stream",
     "text": [
      "1/1 [==============================] - 0s 106ms/step - loss: 3.4999e-05 - accuracy: 1.0000\n"
     ]
    },
    {
     "data": {
      "text/plain": [
       "[3.499854210531339e-05, 1.0]"
      ]
     },
     "execution_count": 17,
     "metadata": {},
     "output_type": "execute_result"
    }
   ],
   "source": [
    "modelo.evaluate(XTest_mov,YTest_mov)"
   ]
  },
  {
   "cell_type": "markdown",
   "metadata": {},
   "source": [
    "### Crear MLP"
   ]
  },
  {
   "cell_type": "code",
   "execution_count": 18,
   "metadata": {},
   "outputs": [
    {
     "name": "stdout",
     "output_type": "stream",
     "text": [
      "(10, 1833, 3)\n",
      "(10, 5)\n"
     ]
    }
   ],
   "source": [
    "print(XTrain_mov.shape)\n",
    "print(YTrain_mov.shape)"
   ]
  },
  {
   "cell_type": "code",
   "execution_count": 19,
   "metadata": {},
   "outputs": [],
   "source": [
    "Xtrain_mov = XTrain_mov.reshape((10,1833*3))\n",
    "Ytrain_mov = YTrain_mov.reshape(10,5)"
   ]
  },
  {
   "cell_type": "code",
   "execution_count": 20,
   "metadata": {},
   "outputs": [
    {
     "name": "stderr",
     "output_type": "stream",
     "text": [
      "c:\\Users\\PC\\anaconda3\\envs\\DeepLearning\\lib\\site-packages\\sklearn\\neural_network\\_multilayer_perceptron.py:691: ConvergenceWarning: Stochastic Optimizer: Maximum iterations (100) reached and the optimization hasn't converged yet.\n",
      "  warnings.warn(\n"
     ]
    },
    {
     "data": {
      "text/html": [
       "<style>#sk-container-id-1 {color: black;}#sk-container-id-1 pre{padding: 0;}#sk-container-id-1 div.sk-toggleable {background-color: white;}#sk-container-id-1 label.sk-toggleable__label {cursor: pointer;display: block;width: 100%;margin-bottom: 0;padding: 0.3em;box-sizing: border-box;text-align: center;}#sk-container-id-1 label.sk-toggleable__label-arrow:before {content: \"▸\";float: left;margin-right: 0.25em;color: #696969;}#sk-container-id-1 label.sk-toggleable__label-arrow:hover:before {color: black;}#sk-container-id-1 div.sk-estimator:hover label.sk-toggleable__label-arrow:before {color: black;}#sk-container-id-1 div.sk-toggleable__content {max-height: 0;max-width: 0;overflow: hidden;text-align: left;background-color: #f0f8ff;}#sk-container-id-1 div.sk-toggleable__content pre {margin: 0.2em;color: black;border-radius: 0.25em;background-color: #f0f8ff;}#sk-container-id-1 input.sk-toggleable__control:checked~div.sk-toggleable__content {max-height: 200px;max-width: 100%;overflow: auto;}#sk-container-id-1 input.sk-toggleable__control:checked~label.sk-toggleable__label-arrow:before {content: \"▾\";}#sk-container-id-1 div.sk-estimator input.sk-toggleable__control:checked~label.sk-toggleable__label {background-color: #d4ebff;}#sk-container-id-1 div.sk-label input.sk-toggleable__control:checked~label.sk-toggleable__label {background-color: #d4ebff;}#sk-container-id-1 input.sk-hidden--visually {border: 0;clip: rect(1px 1px 1px 1px);clip: rect(1px, 1px, 1px, 1px);height: 1px;margin: -1px;overflow: hidden;padding: 0;position: absolute;width: 1px;}#sk-container-id-1 div.sk-estimator {font-family: monospace;background-color: #f0f8ff;border: 1px dotted black;border-radius: 0.25em;box-sizing: border-box;margin-bottom: 0.5em;}#sk-container-id-1 div.sk-estimator:hover {background-color: #d4ebff;}#sk-container-id-1 div.sk-parallel-item::after {content: \"\";width: 100%;border-bottom: 1px solid gray;flex-grow: 1;}#sk-container-id-1 div.sk-label:hover label.sk-toggleable__label {background-color: #d4ebff;}#sk-container-id-1 div.sk-serial::before {content: \"\";position: absolute;border-left: 1px solid gray;box-sizing: border-box;top: 0;bottom: 0;left: 50%;z-index: 0;}#sk-container-id-1 div.sk-serial {display: flex;flex-direction: column;align-items: center;background-color: white;padding-right: 0.2em;padding-left: 0.2em;position: relative;}#sk-container-id-1 div.sk-item {position: relative;z-index: 1;}#sk-container-id-1 div.sk-parallel {display: flex;align-items: stretch;justify-content: center;background-color: white;position: relative;}#sk-container-id-1 div.sk-item::before, #sk-container-id-1 div.sk-parallel-item::before {content: \"\";position: absolute;border-left: 1px solid gray;box-sizing: border-box;top: 0;bottom: 0;left: 50%;z-index: -1;}#sk-container-id-1 div.sk-parallel-item {display: flex;flex-direction: column;z-index: 1;position: relative;background-color: white;}#sk-container-id-1 div.sk-parallel-item:first-child::after {align-self: flex-end;width: 50%;}#sk-container-id-1 div.sk-parallel-item:last-child::after {align-self: flex-start;width: 50%;}#sk-container-id-1 div.sk-parallel-item:only-child::after {width: 0;}#sk-container-id-1 div.sk-dashed-wrapped {border: 1px dashed gray;margin: 0 0.4em 0.5em 0.4em;box-sizing: border-box;padding-bottom: 0.4em;background-color: white;}#sk-container-id-1 div.sk-label label {font-family: monospace;font-weight: bold;display: inline-block;line-height: 1.2em;}#sk-container-id-1 div.sk-label-container {text-align: center;}#sk-container-id-1 div.sk-container {/* jupyter's `normalize.less` sets `[hidden] { display: none; }` but bootstrap.min.css set `[hidden] { display: none !important; }` so we also need the `!important` here to be able to override the default hidden behavior on the sphinx rendered scikit-learn.org. See: https://github.com/scikit-learn/scikit-learn/issues/21755 */display: inline-block !important;position: relative;}#sk-container-id-1 div.sk-text-repr-fallback {display: none;}</style><div id=\"sk-container-id-1\" class=\"sk-top-container\"><div class=\"sk-text-repr-fallback\"><pre>MLPClassifier(hidden_layer_sizes=(64, 32), max_iter=100, random_state=42)</pre><b>In a Jupyter environment, please rerun this cell to show the HTML representation or trust the notebook. <br />On GitHub, the HTML representation is unable to render, please try loading this page with nbviewer.org.</b></div><div class=\"sk-container\" hidden><div class=\"sk-item\"><div class=\"sk-estimator sk-toggleable\"><input class=\"sk-toggleable__control sk-hidden--visually\" id=\"sk-estimator-id-1\" type=\"checkbox\" checked><label for=\"sk-estimator-id-1\" class=\"sk-toggleable__label sk-toggleable__label-arrow\">MLPClassifier</label><div class=\"sk-toggleable__content\"><pre>MLPClassifier(hidden_layer_sizes=(64, 32), max_iter=100, random_state=42)</pre></div></div></div></div></div>"
      ],
      "text/plain": [
       "MLPClassifier(hidden_layer_sizes=(64, 32), max_iter=100, random_state=42)"
      ]
     },
     "execution_count": 20,
     "metadata": {},
     "output_type": "execute_result"
    }
   ],
   "source": [
    "mlp = MLPClassifier(hidden_layer_sizes=(64, 32),\n",
    "                    max_iter=100, random_state=42)\n",
    "mlp.fit(Xtrain_mov, Ytrain_mov)"
   ]
  },
  {
   "cell_type": "code",
   "execution_count": 21,
   "metadata": {},
   "outputs": [],
   "source": [
    "Xtest_mov = XTest_mov.reshape((5,1833*3))\n",
    "Ytest_mov = YTest_mov.reshape(5,5)"
   ]
  },
  {
   "cell_type": "code",
   "execution_count": 22,
   "metadata": {},
   "outputs": [
    {
     "name": "stdout",
     "output_type": "stream",
     "text": [
      "0.8\n"
     ]
    }
   ],
   "source": [
    "p = mlp.predict(Xtest_mov)\n",
    "acc = accuracy_score(Ytest_mov, p)\n",
    "print(acc)"
   ]
  },
  {
   "cell_type": "markdown",
   "metadata": {},
   "source": [
    "### Redes Neuronales Recurrentes"
   ]
  },
  {
   "cell_type": "code",
   "execution_count": 23,
   "metadata": {},
   "outputs": [
    {
     "name": "stdout",
     "output_type": "stream",
     "text": [
      "Model: \"sequential_1\"\n",
      "_________________________________________________________________\n",
      " Layer (type)                Output Shape              Param #   \n",
      "=================================================================\n",
      " simple_rnn (SimpleRNN)      (None, None, 20)          480       \n",
      "                                                                 \n",
      " simple_rnn_1 (SimpleRNN)    (None, 5)                 130       \n",
      "                                                                 \n",
      " dense_1 (Dense)             (None, 5)                 30        \n",
      "                                                                 \n",
      "=================================================================\n",
      "Total params: 640 (2.50 KB)\n",
      "Trainable params: 640 (2.50 KB)\n",
      "Non-trainable params: 0 (0.00 Byte)\n",
      "_________________________________________________________________\n",
      "Epoch 1/100\n",
      "1/1 [==============================] - 1s 1s/step - loss: 0.2975 - mse: 0.2975 - val_loss: 0.2886 - val_mse: 0.2886\n",
      "Epoch 2/100\n",
      "1/1 [==============================] - 0s 325ms/step - loss: 0.2917 - mse: 0.2917 - val_loss: 0.2829 - val_mse: 0.2829\n",
      "Epoch 3/100\n",
      "1/1 [==============================] - 0s 327ms/step - loss: 0.2860 - mse: 0.2860 - val_loss: 0.2774 - val_mse: 0.2774\n",
      "Epoch 4/100\n",
      "1/1 [==============================] - 0s 325ms/step - loss: 0.2805 - mse: 0.2805 - val_loss: 0.2720 - val_mse: 0.2720\n",
      "Epoch 5/100\n",
      "1/1 [==============================] - 0s 331ms/step - loss: 0.2751 - mse: 0.2751 - val_loss: 0.2668 - val_mse: 0.2668\n",
      "Epoch 6/100\n",
      "1/1 [==============================] - 0s 320ms/step - loss: 0.2698 - mse: 0.2698 - val_loss: 0.2617 - val_mse: 0.2617\n",
      "Epoch 7/100\n",
      "1/1 [==============================] - 0s 320ms/step - loss: 0.2647 - mse: 0.2647 - val_loss: 0.2567 - val_mse: 0.2567\n",
      "Epoch 8/100\n",
      "1/1 [==============================] - 0s 323ms/step - loss: 0.2596 - mse: 0.2596 - val_loss: 0.2518 - val_mse: 0.2518\n",
      "Epoch 9/100\n",
      "1/1 [==============================] - 0s 325ms/step - loss: 0.2546 - mse: 0.2546 - val_loss: 0.2468 - val_mse: 0.2468\n",
      "Epoch 10/100\n",
      "1/1 [==============================] - 0s 331ms/step - loss: 0.2495 - mse: 0.2495 - val_loss: 0.2416 - val_mse: 0.2416\n",
      "Epoch 11/100\n",
      "1/1 [==============================] - 0s 345ms/step - loss: 0.2443 - mse: 0.2443 - val_loss: 0.2360 - val_mse: 0.2360\n",
      "Epoch 12/100\n",
      "1/1 [==============================] - 0s 338ms/step - loss: 0.2389 - mse: 0.2389 - val_loss: 0.2302 - val_mse: 0.2302\n",
      "Epoch 13/100\n",
      "1/1 [==============================] - 0s 336ms/step - loss: 0.2332 - mse: 0.2332 - val_loss: 0.2246 - val_mse: 0.2246\n",
      "Epoch 14/100\n",
      "1/1 [==============================] - 0s 342ms/step - loss: 0.2274 - mse: 0.2274 - val_loss: 0.2202 - val_mse: 0.2202\n",
      "Epoch 15/100\n",
      "1/1 [==============================] - 0s 337ms/step - loss: 0.2218 - mse: 0.2218 - val_loss: 0.2129 - val_mse: 0.2129\n",
      "Epoch 16/100\n",
      "1/1 [==============================] - 0s 333ms/step - loss: 0.2146 - mse: 0.2146 - val_loss: 0.2023 - val_mse: 0.2023\n",
      "Epoch 17/100\n",
      "1/1 [==============================] - 0s 348ms/step - loss: 0.2065 - mse: 0.2065 - val_loss: 0.1993 - val_mse: 0.1993\n",
      "Epoch 18/100\n",
      "1/1 [==============================] - 0s 336ms/step - loss: 0.2035 - mse: 0.2035 - val_loss: 0.1911 - val_mse: 0.1911\n",
      "Epoch 19/100\n",
      "1/1 [==============================] - 0s 329ms/step - loss: 0.1929 - mse: 0.1929 - val_loss: 0.1890 - val_mse: 0.1890\n",
      "Epoch 20/100\n",
      "1/1 [==============================] - 0s 329ms/step - loss: 0.1909 - mse: 0.1909 - val_loss: 0.1866 - val_mse: 0.1866\n",
      "Epoch 21/100\n",
      "1/1 [==============================] - 0s 345ms/step - loss: 0.1888 - mse: 0.1888 - val_loss: 0.1839 - val_mse: 0.1839\n",
      "Epoch 22/100\n",
      "1/1 [==============================] - 0s 342ms/step - loss: 0.1870 - mse: 0.1870 - val_loss: 0.1835 - val_mse: 0.1835\n",
      "Epoch 23/100\n",
      "1/1 [==============================] - 0s 332ms/step - loss: 0.1870 - mse: 0.1870 - val_loss: 0.1850 - val_mse: 0.1850\n",
      "Epoch 24/100\n",
      "1/1 [==============================] - 0s 336ms/step - loss: 0.1882 - mse: 0.1882 - val_loss: 0.1859 - val_mse: 0.1859\n",
      "Epoch 25/100\n",
      "1/1 [==============================] - 0s 325ms/step - loss: 0.1889 - mse: 0.1889 - val_loss: 0.1863 - val_mse: 0.1863\n",
      "Epoch 26/100\n",
      "1/1 [==============================] - 0s 342ms/step - loss: 0.1892 - mse: 0.1892 - val_loss: 0.1864 - val_mse: 0.1864\n",
      "Epoch 27/100\n",
      "1/1 [==============================] - 0s 338ms/step - loss: 0.1891 - mse: 0.1891 - val_loss: 0.1862 - val_mse: 0.1862\n",
      "Epoch 28/100\n",
      "1/1 [==============================] - 0s 328ms/step - loss: 0.1888 - mse: 0.1888 - val_loss: 0.1860 - val_mse: 0.1860\n",
      "Epoch 29/100\n",
      "1/1 [==============================] - 0s 347ms/step - loss: 0.1883 - mse: 0.1883 - val_loss: 0.1855 - val_mse: 0.1855\n",
      "Epoch 30/100\n",
      "1/1 [==============================] - 0s 331ms/step - loss: 0.1879 - mse: 0.1879 - val_loss: 0.1847 - val_mse: 0.1847\n",
      "Epoch 31/100\n",
      "1/1 [==============================] - 0s 327ms/step - loss: 0.1874 - mse: 0.1874 - val_loss: 0.1841 - val_mse: 0.1841\n",
      "Epoch 32/100\n",
      "1/1 [==============================] - 0s 336ms/step - loss: 0.1869 - mse: 0.1869 - val_loss: 0.1831 - val_mse: 0.1831\n",
      "Epoch 33/100\n",
      "1/1 [==============================] - 0s 322ms/step - loss: 0.1863 - mse: 0.1863 - val_loss: 0.1822 - val_mse: 0.1822\n",
      "Epoch 34/100\n",
      "1/1 [==============================] - 0s 331ms/step - loss: 0.1856 - mse: 0.1856 - val_loss: 0.1814 - val_mse: 0.1814\n",
      "Epoch 35/100\n",
      "1/1 [==============================] - 0s 332ms/step - loss: 0.1848 - mse: 0.1848 - val_loss: 0.1805 - val_mse: 0.1805\n",
      "Epoch 36/100\n",
      "1/1 [==============================] - 0s 326ms/step - loss: 0.1839 - mse: 0.1839 - val_loss: 0.1795 - val_mse: 0.1795\n",
      "Epoch 37/100\n",
      "1/1 [==============================] - 0s 334ms/step - loss: 0.1830 - mse: 0.1830 - val_loss: 0.1785 - val_mse: 0.1785\n",
      "Epoch 38/100\n",
      "1/1 [==============================] - 0s 328ms/step - loss: 0.1820 - mse: 0.1820 - val_loss: 0.1774 - val_mse: 0.1774\n",
      "Epoch 39/100\n",
      "1/1 [==============================] - 0s 336ms/step - loss: 0.1810 - mse: 0.1810 - val_loss: 0.1763 - val_mse: 0.1763\n",
      "Epoch 40/100\n",
      "1/1 [==============================] - 0s 333ms/step - loss: 0.1798 - mse: 0.1798 - val_loss: 0.1752 - val_mse: 0.1752\n",
      "Epoch 41/100\n",
      "1/1 [==============================] - 0s 325ms/step - loss: 0.1787 - mse: 0.1787 - val_loss: 0.1742 - val_mse: 0.1742\n",
      "Epoch 42/100\n",
      "1/1 [==============================] - 0s 326ms/step - loss: 0.1776 - mse: 0.1776 - val_loss: 0.1732 - val_mse: 0.1732\n",
      "Epoch 43/100\n",
      "1/1 [==============================] - 0s 322ms/step - loss: 0.1765 - mse: 0.1765 - val_loss: 0.1722 - val_mse: 0.1722\n",
      "Epoch 44/100\n",
      "1/1 [==============================] - 0s 321ms/step - loss: 0.1754 - mse: 0.1754 - val_loss: 0.1714 - val_mse: 0.1714\n",
      "Epoch 45/100\n",
      "1/1 [==============================] - 0s 321ms/step - loss: 0.1743 - mse: 0.1743 - val_loss: 0.1708 - val_mse: 0.1708\n",
      "Epoch 46/100\n",
      "1/1 [==============================] - 0s 333ms/step - loss: 0.1732 - mse: 0.1732 - val_loss: 0.1689 - val_mse: 0.1689\n",
      "Epoch 47/100\n",
      "1/1 [==============================] - 0s 320ms/step - loss: 0.1706 - mse: 0.1706 - val_loss: 0.1646 - val_mse: 0.1646\n",
      "Epoch 48/100\n",
      "1/1 [==============================] - 0s 330ms/step - loss: 0.1652 - mse: 0.1652 - val_loss: 0.1716 - val_mse: 0.1716\n",
      "Epoch 49/100\n",
      "1/1 [==============================] - 0s 328ms/step - loss: 0.1713 - mse: 0.1713 - val_loss: 0.1702 - val_mse: 0.1702\n",
      "Epoch 50/100\n",
      "1/1 [==============================] - 0s 330ms/step - loss: 0.1715 - mse: 0.1715 - val_loss: 0.1630 - val_mse: 0.1630\n",
      "Epoch 51/100\n",
      "1/1 [==============================] - 0s 324ms/step - loss: 0.1664 - mse: 0.1664 - val_loss: 0.1580 - val_mse: 0.1580\n",
      "Epoch 52/100\n",
      "1/1 [==============================] - 0s 329ms/step - loss: 0.1652 - mse: 0.1652 - val_loss: 0.1826 - val_mse: 0.1826\n",
      "Epoch 53/100\n",
      "1/1 [==============================] - 0s 327ms/step - loss: 0.1821 - mse: 0.1821 - val_loss: 0.1912 - val_mse: 0.1912\n",
      "Epoch 54/100\n",
      "1/1 [==============================] - 0s 329ms/step - loss: 0.1912 - mse: 0.1912 - val_loss: 0.1966 - val_mse: 0.1966\n",
      "Epoch 55/100\n",
      "1/1 [==============================] - 0s 328ms/step - loss: 0.1997 - mse: 0.1997 - val_loss: 0.2003 - val_mse: 0.2003\n",
      "Epoch 56/100\n",
      "1/1 [==============================] - 0s 327ms/step - loss: 0.1988 - mse: 0.1988 - val_loss: 0.2023 - val_mse: 0.2023\n",
      "Epoch 57/100\n",
      "1/1 [==============================] - 0s 324ms/step - loss: 0.2002 - mse: 0.2002 - val_loss: 0.2027 - val_mse: 0.2027\n",
      "Epoch 58/100\n",
      "1/1 [==============================] - 0s 325ms/step - loss: 0.2003 - mse: 0.2003 - val_loss: 0.2014 - val_mse: 0.2014\n",
      "Epoch 59/100\n",
      "1/1 [==============================] - 0s 330ms/step - loss: 0.1994 - mse: 0.1994 - val_loss: 0.1987 - val_mse: 0.1987\n",
      "Epoch 60/100\n",
      "1/1 [==============================] - 0s 326ms/step - loss: 0.1975 - mse: 0.1975 - val_loss: 0.1953 - val_mse: 0.1953\n",
      "Epoch 61/100\n",
      "1/1 [==============================] - 0s 329ms/step - loss: 0.1950 - mse: 0.1950 - val_loss: 0.1915 - val_mse: 0.1915\n",
      "Epoch 62/100\n",
      "1/1 [==============================] - 0s 328ms/step - loss: 0.1921 - mse: 0.1921 - val_loss: 0.1874 - val_mse: 0.1874\n",
      "Epoch 63/100\n",
      "1/1 [==============================] - 0s 329ms/step - loss: 0.1891 - mse: 0.1891 - val_loss: 0.1831 - val_mse: 0.1831\n",
      "Epoch 64/100\n",
      "1/1 [==============================] - 0s 323ms/step - loss: 0.1860 - mse: 0.1860 - val_loss: 0.1785 - val_mse: 0.1785\n",
      "Epoch 65/100\n",
      "1/1 [==============================] - 0s 322ms/step - loss: 0.1826 - mse: 0.1826 - val_loss: 0.1739 - val_mse: 0.1739\n",
      "Epoch 66/100\n",
      "1/1 [==============================] - 0s 322ms/step - loss: 0.1785 - mse: 0.1785 - val_loss: 0.1691 - val_mse: 0.1691\n",
      "Epoch 67/100\n",
      "1/1 [==============================] - 0s 332ms/step - loss: 0.1712 - mse: 0.1712 - val_loss: 0.1651 - val_mse: 0.1651\n",
      "Epoch 68/100\n",
      "1/1 [==============================] - 0s 326ms/step - loss: 0.1647 - mse: 0.1647 - val_loss: 0.1654 - val_mse: 0.1654\n",
      "Epoch 69/100\n",
      "1/1 [==============================] - 0s 315ms/step - loss: 0.1668 - mse: 0.1668 - val_loss: 0.1665 - val_mse: 0.1665\n",
      "Epoch 70/100\n",
      "1/1 [==============================] - 0s 322ms/step - loss: 0.1691 - mse: 0.1691 - val_loss: 0.1702 - val_mse: 0.1702\n",
      "Epoch 71/100\n",
      "1/1 [==============================] - 0s 321ms/step - loss: 0.1728 - mse: 0.1728 - val_loss: 0.1719 - val_mse: 0.1719\n",
      "Epoch 72/100\n",
      "1/1 [==============================] - 0s 325ms/step - loss: 0.1744 - mse: 0.1744 - val_loss: 0.1719 - val_mse: 0.1719\n",
      "Epoch 73/100\n",
      "1/1 [==============================] - 0s 321ms/step - loss: 0.1744 - mse: 0.1744 - val_loss: 0.1716 - val_mse: 0.1716\n",
      "Epoch 74/100\n",
      "1/1 [==============================] - 0s 325ms/step - loss: 0.1740 - mse: 0.1740 - val_loss: 0.1712 - val_mse: 0.1712\n",
      "Epoch 75/100\n",
      "1/1 [==============================] - 0s 330ms/step - loss: 0.1734 - mse: 0.1734 - val_loss: 0.1705 - val_mse: 0.1705\n",
      "Epoch 76/100\n",
      "1/1 [==============================] - 0s 328ms/step - loss: 0.1726 - mse: 0.1726 - val_loss: 0.1694 - val_mse: 0.1694\n",
      "Epoch 77/100\n",
      "1/1 [==============================] - 0s 334ms/step - loss: 0.1714 - mse: 0.1714 - val_loss: 0.1668 - val_mse: 0.1668\n",
      "Epoch 78/100\n",
      "1/1 [==============================] - 0s 330ms/step - loss: 0.1689 - mse: 0.1689 - val_loss: 0.1616 - val_mse: 0.1616\n",
      "Epoch 79/100\n",
      "1/1 [==============================] - 0s 331ms/step - loss: 0.1643 - mse: 0.1643 - val_loss: 0.1580 - val_mse: 0.1580\n",
      "Epoch 80/100\n",
      "1/1 [==============================] - 0s 325ms/step - loss: 0.1608 - mse: 0.1608 - val_loss: 0.1558 - val_mse: 0.1558\n",
      "Epoch 81/100\n",
      "1/1 [==============================] - 0s 322ms/step - loss: 0.1583 - mse: 0.1583 - val_loss: 0.1549 - val_mse: 0.1549\n",
      "Epoch 82/100\n",
      "1/1 [==============================] - 0s 333ms/step - loss: 0.1565 - mse: 0.1565 - val_loss: 0.1538 - val_mse: 0.1538\n",
      "Epoch 83/100\n",
      "1/1 [==============================] - 0s 327ms/step - loss: 0.1544 - mse: 0.1544 - val_loss: 0.1499 - val_mse: 0.1499\n",
      "Epoch 84/100\n",
      "1/1 [==============================] - 0s 332ms/step - loss: 0.1510 - mse: 0.1510 - val_loss: 0.1504 - val_mse: 0.1504\n",
      "Epoch 85/100\n",
      "1/1 [==============================] - 0s 330ms/step - loss: 0.1507 - mse: 0.1507 - val_loss: 0.1531 - val_mse: 0.1531\n",
      "Epoch 86/100\n",
      "1/1 [==============================] - 0s 327ms/step - loss: 0.1520 - mse: 0.1520 - val_loss: 0.1548 - val_mse: 0.1548\n",
      "Epoch 87/100\n",
      "1/1 [==============================] - 0s 329ms/step - loss: 0.1531 - mse: 0.1531 - val_loss: 0.1552 - val_mse: 0.1552\n",
      "Epoch 88/100\n",
      "1/1 [==============================] - 0s 325ms/step - loss: 0.1607 - mse: 0.1607 - val_loss: 0.1511 - val_mse: 0.1511\n",
      "Epoch 89/100\n",
      "1/1 [==============================] - 0s 321ms/step - loss: 0.1504 - mse: 0.1504 - val_loss: 0.1476 - val_mse: 0.1476\n",
      "Epoch 90/100\n",
      "1/1 [==============================] - 0s 321ms/step - loss: 0.1481 - mse: 0.1481 - val_loss: 0.1464 - val_mse: 0.1464\n",
      "Epoch 91/100\n",
      "1/1 [==============================] - 0s 323ms/step - loss: 0.1475 - mse: 0.1475 - val_loss: 0.1476 - val_mse: 0.1476\n",
      "Epoch 92/100\n",
      "1/1 [==============================] - 0s 338ms/step - loss: 0.1486 - mse: 0.1486 - val_loss: 0.1479 - val_mse: 0.1479\n",
      "Epoch 93/100\n",
      "1/1 [==============================] - 0s 322ms/step - loss: 0.1490 - mse: 0.1490 - val_loss: 0.1478 - val_mse: 0.1478\n",
      "Epoch 94/100\n",
      "1/1 [==============================] - 0s 329ms/step - loss: 0.1490 - mse: 0.1490 - val_loss: 0.1479 - val_mse: 0.1479\n",
      "Epoch 95/100\n",
      "1/1 [==============================] - 0s 326ms/step - loss: 0.1489 - mse: 0.1489 - val_loss: 0.1473 - val_mse: 0.1473\n",
      "Epoch 96/100\n",
      "1/1 [==============================] - 0s 322ms/step - loss: 0.1485 - mse: 0.1485 - val_loss: 0.1467 - val_mse: 0.1467\n",
      "Epoch 97/100\n",
      "1/1 [==============================] - 0s 330ms/step - loss: 0.1479 - mse: 0.1479 - val_loss: 0.1456 - val_mse: 0.1456\n",
      "Epoch 98/100\n",
      "1/1 [==============================] - 0s 332ms/step - loss: 0.1468 - mse: 0.1468 - val_loss: 0.1432 - val_mse: 0.1432\n",
      "Epoch 99/100\n",
      "1/1 [==============================] - 0s 330ms/step - loss: 0.1449 - mse: 0.1449 - val_loss: 0.1422 - val_mse: 0.1422\n",
      "Epoch 100/100\n",
      "1/1 [==============================] - 0s 325ms/step - loss: 0.1436 - mse: 0.1436 - val_loss: 0.1421 - val_mse: 0.1421\n"
     ]
    }
   ],
   "source": [
    "modelo_RNN = keras.models.Sequential([(keras.layers.SimpleRNN(20,return_sequences=True,input_shape=[None,3],activation='relu')),\n",
    "                                      (keras.layers.SimpleRNN(5)),\n",
    "                                      (keras.layers.Dense(5))])\n",
    "modelo_RNN.summary()\n",
    "modelo_RNN.compile('adam','mse',metrics=['mse'])\n",
    "# historia_RNN  = modelo_RNN.fit(X_train_E,Y_train_E,validation_data=(X_test_E,Y_test_E),epochs=100, verbose=1)\n",
    "historia_RNN  = modelo_RNN.fit(XTrain_mov,YTrain_mov,validation_data=(XTest_mov,YTest_mov),epochs=100, verbose=1)"
   ]
  },
  {
   "cell_type": "code",
   "execution_count": 24,
   "metadata": {},
   "outputs": [
    {
     "data": {
      "image/png": "[encoded data removed]",
      "text/plain": [
       "<Figure size 640x480 with 1 Axes>"
      ]
     },
     "metadata": {},
     "output_type": "display_data"
    }
   ],
   "source": [
    "Train_loss = historia_RNN.history['loss']\n",
    "epocas = range(1,len(Train_loss)+1)\n",
    "plt.plot(epocas,Train_loss,'b',label='Perdida Entrenamiento')\n",
    "plt.xlabel('Epocas')\n",
    "plt.ylabel('Loss')\n",
    "plt.show()"
   ]
  },
  {
   "cell_type": "code",
   "execution_count": 25,
   "metadata": {},
   "outputs": [
    {
     "data": {
      "text/plain": [
       "0.14211127"
      ]
     },
     "execution_count": 25,
     "metadata": {},
     "output_type": "execute_result"
    }
   ],
   "source": [
    "Ypredict = modelo_RNN(XTest_mov)\n",
    "np.mean(keras.losses.mean_squared_error(YTest_mov,Ypredict))"
   ]
  },
  {
   "cell_type": "markdown",
   "metadata": {},
   "source": [
    "# **Conclusiones**\n",
    "\n",
    "Para el procesamiento de audio, la red Conv1D muestra el mejor desempeño en comparación con Conv2D y MLP, con una diferencia de solo 0.6, siendo Conv2D la que tiene el Accuracy más alto, con 0.53, frente a MLP con 0.4 y Conv1D con 0.26. Esto se debe a que lo que se analizaba era un espectrograma, el cual es una imagen donde el eje X se puede tomar como la variable temporal de una onda de sonido y el eje Y como la intensidad del sonido.\n",
    "\n",
    "Por otro lado, para el procesamiento de la diferenciación de movimientos, las 2 de las 3 redes: Conv1D, MLP tuvieron un desempeño muy similar de 1 y 0.8, mientras que la Red Recurrente tuvo un accuracy del 0.14 . Este buen desempeño se debe a que las 5 categorías de movimiento se segmentaron de manera tal que fueran saficlmente reconocibles, lo que hizo que el modelo clasificara un movimiento diferente de otro de manera muy precisa, por otro lado la red recurrente tuvo problemas pues detecto toda la onda como una sola la cual solo tenia cambios que analizaba tomando en cuenta datos pasados de la misma serie.\n",
    "\n",
    "Los resultados de las redes no son lo mejor no por un pobre desempeño de estas sino a la calidad de los datos como tal, un muestreo mas amplio de datos, asi como una mejor diferenciacion entre cada una de las categorrias como puede ser grabar sonidos mas diferenciables entre si como puede ser una cancion vs una charla, una cocina en la que se prepare algo y no solo este vacia, movimientos como puede ser saltar, correr y no solo caminar y subir gradas pueden dar mejores predicciones, tambien para obtener mejores resultados sobre todo en la parte de movimientos tratar a cada una de las diferentes ondas de manera separada, para que en el momento que se requiera reconocer el movimiento de un sensor, la red neuronal sea capaz de clasificarlo como una caminata, un trote etc. "
   ]
  }
 ],
 "metadata": {
  "kernelspec": {
   "display_name": "DeepLearning",
   "language": "python",
   "name": "python3"
  },
  "language_info": {
   "codemirror_mode": {
    "name": "ipython",
    "version": 3
   },
   "file_extension": ".py",
   "mimetype": "text/x-python",
   "name": "python",
   "nbconvert_exporter": "python",
   "pygments_lexer": "ipython3",
   "version": "3.10.13"
  }
 },
 "nbformat": 4,
 "nbformat_minor": 2
}
